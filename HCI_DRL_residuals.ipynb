{
 "cells": [
  {
   "cell_type": "markdown",
   "metadata": {
    "colab_type": "text",
    "id": "Ckf9HBuk4bah"
   },
   "source": [
    "# Gym environment for a High Contrast Imaging instrument's AO control system.\n",
    "\n",
    "## Attributes:\n",
    "This is a simplified HCI system environment. The dynamics of the environment is based on a Markov Decision Process. The relevant attributes are the \"state\", \"action\", \"reward\".  \n",
    "The state in this case consists of 2 channels. The first is the WFS recorded phase projected on the DM actuator mode basis. For example, with a 25x25 actuator DM the state is a 25x25 matrix of actuator values. The second is the current DM actuator amplitudes. So overall, the state is a 25x25x2 tensor.   \n",
    "The action is the actuator amplitudes to be applied on the DM for the current timestep. In the case of a DM with 25x25 actuators, it is simply a 25x25 matrix.    \n",
    "The reward is a single scalar value. We can use the Strehl, the contrast, or any other such metric that needs to be maximized through AO control.  \n",
    "\n",
    "## Description:\n",
    "1. The optical system is defined in a class that inherits from OpenAI's gym environment class.\n",
    "2. This class contains 3 main methods - \\_\\_init\\_\\_(...), step(...), reset(...).\n",
    "3. The \\_\\_init\\_\\_(...) method sets up the optical system with the following components in order: a turbulence generator, a demagnifier, a DM, a WFS, a coronagraph, a quasi-static NCPA aberration, and a detector.\n",
    "4. The step(action) function does the following:\n",
    "   * The DM is updated with the actuator values specified in the \"action\".\n",
    "   * The wavefront is propagated through the science optical path.\n",
    "   * The instantaneous focal plane image is calculated.\n",
    "   * A reward is calculated using the metric function on the focal plane image, and is used to update the reward variable.\n",
    "   * The timestep is incremented by 1, and the turbulence generator is evolved accordingly.\n",
    "   * The WFS measurement is read out. The state variable for WFS measurement is updated.\n",
    "5. A reinforcement learning algorithm works in this environment to maximize expected future reward."
   ]
  },
  {
   "cell_type": "markdown",
   "metadata": {
    "colab_type": "text",
    "id": "OJMsldF_5U70"
   },
   "source": [
    "### Step 0: ONLY RUN THIS ON COLAB!"
   ]
  },
  {
   "cell_type": "code",
   "execution_count": null,
   "metadata": {
    "colab": {},
    "colab_type": "code",
    "id": "lX6JfIQ35Vjo"
   },
   "outputs": [],
   "source": [
    "!pip uninstall hcipy\n",
    "!rm -rf hcipy\n",
    "!git clone https://github.com/ehpor/hcipy.git\n",
    "!cd hcipy; git pull\n",
    "!cd hcipy; python setup.py install\n",
    "\n",
    "!mkdir agents\n",
    "!mkdir models\n",
    "!mkdir envs\n",
    "!mkdir utils\n",
    "!mkdir coronagraphs\n",
    "\n",
    "!mv agent.py agents/.\n",
    "!mv model.py models/.\n",
    "!mv HCI_TestBench.py envs/.\n",
    "!mv noise_model.py utils/.\n",
    "!mv replay_buffer.py utils/.\n",
    "!mv *.fits coronagraphs/."
   ]
  },
  {
   "cell_type": "markdown",
   "metadata": {},
   "source": [
    "Now restart the kernel before running the next cell."
   ]
  },
  {
   "cell_type": "markdown",
   "metadata": {
    "colab_type": "text",
    "id": "_227Uh2v5wz8"
   },
   "source": [
    "### Step 1: Importing necessary libraries."
   ]
  },
  {
   "cell_type": "code",
   "execution_count": 1,
   "metadata": {
    "colab": {},
    "colab_type": "code",
    "id": "F_-ee-0x5Z6_"
   },
   "outputs": [],
   "source": [
    "# Necessary imports\n",
    "import gym\n",
    "from gym import spaces\n",
    "from gym.utils import seeding\n",
    "import numpy as np\n",
    "from hcipy import *\n",
    "import matplotlib.pyplot as plt\n",
    "from astropy.io import fits\n",
    "import os, glob\n",
    "import time\n",
    "import tensorflow as tf"
   ]
  },
  {
   "cell_type": "code",
   "execution_count": 2,
   "metadata": {
    "colab": {},
    "colab_type": "code",
    "id": "GUTf4Eqo50Gj"
   },
   "outputs": [],
   "source": [
    "from envs.HCI_TestBench_residual import HCI_TestBench\n",
    "\n",
    "app_amp_file = \"coronagraphs/Square_20_80_20_25_0_2_amp_resampled_256.fits\"\n",
    "app_phase_file = \"coronagraphs/Square_20_80_20_25_0_2_phase_resampled_256.fits\""
   ]
  },
  {
   "cell_type": "markdown",
   "metadata": {
    "colab_type": "text",
    "id": "ddm8ZTXH6MwL"
   },
   "source": [
    "### Step 2: Define testbench parameters."
   ]
  },
  {
   "cell_type": "code",
   "execution_count": 3,
   "metadata": {
    "colab": {},
    "colab_type": "code",
    "id": "Cn7ScAI96Hlz"
   },
   "outputs": [],
   "source": [
    "# Create aperture and pupil/focal grids\n",
    "wavelength = 532e-9\n",
    "N = 256\n",
    "D = 10.5e-3\n",
    "pupil_grid = make_pupil_grid(N, D)\n",
    "science_focal_grid = make_focal_grid(8, 20, wavelength/D)\n",
    "aperture = circular_aperture(D)\n",
    "oversized_aperture = circular_aperture(D*1.01)\n",
    "\n",
    "# Telescope parameters\n",
    "Dtel = 4\n",
    "tel_pupil_grid = make_pupil_grid(N, Dtel)\n",
    "tel_aperture = circular_aperture(Dtel)\n",
    "\n",
    "# Create the deformable mirror\n",
    "num_actuators = 25\n",
    "actuator_spacing = D * 1.1 / num_actuators\n",
    "xinetics_basis = make_xinetics_influence_functions(pupil_grid, num_actuators, actuator_spacing)\n",
    "dm = DeformableMirror(xinetics_basis)\n",
    "num_modes = len(dm.influence_functions)\n",
    "dm.actuators = np.zeros(num_modes)\n",
    "\n",
    "# Create a mask for the usable actuators\n",
    "positions = make_actuator_positions(num_actuators, actuator_spacing)\n",
    "mask = oversized_aperture(positions)\n",
    "\n",
    "## Create the Shack-Hartmann wavefront sensor and estimator\n",
    "## Create the microlens array\n",
    "F_mla = 30. / 0.3\n",
    "N_mla = 32\n",
    "D_mla = 10.5e-3\n",
    "\n",
    "shwfs = SquareShackHartmannWavefrontSensorOptics(pupil_grid, F_mla, N_mla, D_mla)\n",
    "shwfse = ShackHartmannWavefrontSensorEstimator(shwfs.mla_grid, shwfs.micro_lens_array.mla_index, circular_aperture(D)(shwfs.mla_grid).astype('bool'))\n",
    "\n",
    "# Atmosphere parameters\n",
    "velocity = 10 #m/s\n",
    "L0 = 40 # outer scale\n",
    "r0 = 0.2 # Fried parameter\n",
    "height = 0 # layer height\n",
    "timestep = 1e-3 # 1 ms per phasescreen\n",
    "\n",
    "# Make atmosphere\n",
    "layers = []\n",
    "layer = InfiniteAtmosphericLayer(tel_pupil_grid, Cn_squared_from_fried_parameter(r0, 500e-9), L0, velocity, height, stencil_length=2, use_interpolation=True)\n",
    "layers.append(layer)\n",
    "atmosphere = MultiLayerAtmosphere(layers, False)\n",
    "\n",
    "# Atmosphere parameters\n",
    "#pixels_per_frame = 1\n",
    "#velocity = np.array([pixels_per_frame,0])\n",
    "#L0 = 40\n",
    "#r0 = 0.2\n",
    "#height = 0\n",
    "\n",
    "# Make atmosphere\n",
    "#layers = []\n",
    "#layer = InfiniteAtmosphericLayer(tel_pupil_grid, Cn_squared_from_fried_parameter(r0, 500e-9), L0, velocity * tel_pupil_grid.delta[0], height, 2)\n",
    "#layers.append(layer)\n",
    "#atmosphere = MultiLayerAtmosphere(layers, False)\n",
    "\n",
    "## Create a demagnifier\n",
    "demag = Magnifier(D / Dtel)\n",
    "\n",
    "# Make initial phasescreen\n",
    "wf_tel = Wavefront(tel_aperture(tel_pupil_grid), wavelength)\n",
    "wf_tel.total_power = 100000\n",
    "wf = demag.forward(wf_tel)\n",
    "\n",
    "## Create propagator from pupil to focal plane\n",
    "prop = FraunhoferPropagator(pupil_grid, science_focal_grid)\n",
    "\n",
    "## Get the app coronagraph\n",
    "app_amp = fits.getdata(app_amp_file).ravel()\n",
    "app_phase = fits.getdata(app_phase_file).ravel()\n",
    "app = Apodizer(app_amp * np.exp(1j * app_phase))\n",
    "\n",
    "# For now we don't use a coronagraph so make it just a flat phase\n",
    "app = Apodizer(np.exp(1j * np.zeros(wf.phase.shape)))\n",
    "\n",
    "## Create detector\n",
    "science_camera = NoiselessDetector()\n",
    "\n",
    "## Generate a diffraction limited image for metrics\n",
    "diff_lim_img = prop(wf).power\n",
    "\n",
    "## Get the unit lambda/D\n",
    "l_D = wavelength / D\n",
    "plot_grid = make_focal_grid(8, 20, 1)\n",
    "\n",
    "## Create a noiseless camera image from the perfectly flat wavefront with coronograph\n",
    "wfdm = dm.forward(wf)\n",
    "wfapp = app.forward(wfdm)\n",
    "imapp = prop(wfapp).power\n",
    "dz_ind = np.where((imapp.grid.x >= (2 * l_D)) &\\\n",
    "                  (imapp.grid.x <= (8 * l_D)) &\\\n",
    "                  (imapp.grid.y >= (-3 * l_D)) &\\\n",
    "                  (imapp.grid.y <= (3 * l_D)))\n",
    "\n",
    "## Create an NCP aberration\n",
    "num_coeffs = 9\n",
    "plaw_index = -1\n",
    "np.random.seed(7)\n",
    "coeffs = ((np.random.rand(num_coeffs) - 0.5) * 2) * (np.arange(num_coeffs, dtype=float) + 1) ** plaw_index\n",
    "coeffs = np.zeros(coeffs.shape) # Set NCP to zero for now\n",
    "zernike_basis = make_zernike_basis(num_coeffs, D, pupil_grid, 2)\n",
    "ncp_phase = np.dot(zernike_basis.transformation_matrix, coeffs)\n",
    "ncp = Apodizer(np.exp(1j * ncp_phase))\n",
    "\n",
    "# Create an estimate of the NCP aberration for the forward model\n",
    "ncp_field_est = np.exp(1j * np.zeros(app_phase.shape))\n",
    "estimated_coeffs = np.zeros(coeffs.shape)"
   ]
  },
  {
   "cell_type": "code",
   "execution_count": 4,
   "metadata": {
    "colab": {
     "base_uri": "https://localhost:8080/",
     "height": 51
    },
    "colab_type": "code",
    "id": "OajqgOZH7aeq",
    "outputId": "f72e7c4e-5caf-43cc-feae-7d3c7a9f188a"
   },
   "outputs": [
    {
     "name": "stdout",
     "output_type": "stream",
     "text": [
      "Loading pre-calibrated control matrix\n"
     ]
    },
    {
     "name": "stderr",
     "output_type": "stream",
     "text": [
      "/home/vikram/miniconda3/envs/ai_esports/lib/python3.7/site-packages/gym/logger.py:30: UserWarning: \u001b[33mWARN: Box bound precision lowered by casting to float64\u001b[0m\n",
      "  warnings.warn(colorize('%s: %s'%('WARN', msg % args), 'yellow'))\n"
     ]
    }
   ],
   "source": [
    "tb = HCI_TestBench(wf_tel, timestep, atmosphere, demag, dm, mask, shwfs, shwfse, ncp, app, prop, science_camera, dz_ind, \"strehl\")"
   ]
  },
  {
   "cell_type": "markdown",
   "metadata": {},
   "source": [
    "### Step 3: See a standard linear controller in action\n",
    "In this section we will simply add the wavefront sensor measurement with the current DM actuator values. This should give a reasonably high Strehl / contrast. This is just to see that the testbench works as expected."
   ]
  },
  {
   "cell_type": "code",
   "execution_count": null,
   "metadata": {},
   "outputs": [],
   "source": [
    "state = tb.reset() # Start with a new phasescreen\n",
    "\n",
    "for time in range(50):\n",
    "    \n",
    "    amps = state.copy()\n",
    "    amps = np.squeeze(amps)\n",
    "    amps = np.clip(amps, -1, 1)\n",
    "    \n",
    "    recon_wf = tb._dm.forward(tb._turbulence())\n",
    "    imshow_field(recon_wf.phase, grid=pupil_grid, vmin=-np.pi, vmax=np.pi, cmap='RdBu')\n",
    "    plt.show()\n",
    "    \n",
    "    next_state, reward, done, _ = tb.step(amps)\n",
    "    \n",
    "    \n",
    "    state = next_state.copy()\n",
    "    \n",
    "    print(\"\\rTime step: {} Strehl ratio: {:.3f}\".format(time, reward), end=\"\")"
   ]
  },
  {
   "cell_type": "markdown",
   "metadata": {},
   "source": [
    "So with a simple addition operation the resulting Strehl is quite good, between 78 to 80 percent. We should be able to reproduce this with a well trained agent."
   ]
  },
  {
   "cell_type": "markdown",
   "metadata": {
    "colab_type": "text",
    "id": "VQea5RJ0LItE"
   },
   "source": [
    "### Step 4: Train the DDPG agent"
   ]
  },
  {
   "cell_type": "code",
   "execution_count": 5,
   "metadata": {
    "colab": {},
    "colab_type": "code",
    "id": "3Umt8ZL_LSo5"
   },
   "outputs": [],
   "source": [
    "from agents.agent import DDPG\n",
    "from collections import deque"
   ]
  },
  {
   "cell_type": "code",
   "execution_count": 6,
   "metadata": {
    "colab": {},
    "colab_type": "code",
    "id": "_T10NGl_LlVT"
   },
   "outputs": [],
   "source": [
    "# Define all hyperparameters here\n",
    "ACTOR_LR = 1e-5\n",
    "CRITIC_LR = 1e-3\n",
    "RANDOM_SEED = 42\n",
    "MU = 0.0\n",
    "THETA = 0.15\n",
    "SIGMA = 1.0\n",
    "BUFFER_SIZE = 10000\n",
    "BATCH_SIZE = 64\n",
    "GAMMA = 0.95\n",
    "TAU = 1e-2\n",
    "N_TIME_STEPS = 1\n",
    "N_LEARN_UPDATES = 1\n",
    "EPSILON_START = 1\n",
    "EPSILON_DECAY = 1\n",
    "EPSILON_END = 1\n",
    "\n",
    "if tf.test.is_gpu_available():\n",
    "    DEVICE = \"/GPU:0\"\n",
    "else:\n",
    "    DEVICE = \"/device:CPU:0\""
   ]
  },
  {
   "cell_type": "code",
   "execution_count": 7,
   "metadata": {
    "colab": {},
    "colab_type": "code",
    "id": "FHrX0V1iM3VK"
   },
   "outputs": [],
   "source": [
    "state_size = (25, 25, 1)\n",
    "action_size = (25, 25, 1)"
   ]
  },
  {
   "cell_type": "code",
   "execution_count": 8,
   "metadata": {
    "colab": {},
    "colab_type": "code",
    "id": "kDaqZ_LJMgRx"
   },
   "outputs": [],
   "source": [
    "agent = DDPG(state_size, action_size, ACTOR_LR, CRITIC_LR,\n",
    "             RANDOM_SEED, MU, THETA, SIGMA, BUFFER_SIZE, BATCH_SIZE,\n",
    "             EPSILON_START, EPSILON_END, EPSILON_DECAY,\n",
    "             GAMMA, TAU, N_TIME_STEPS, N_LEARN_UPDATES, DEVICE)"
   ]
  },
  {
   "cell_type": "code",
   "execution_count": 9,
   "metadata": {
    "colab": {
     "base_uri": "https://localhost:8080/",
     "height": 34
    },
    "colab_type": "code",
    "id": "yprFnutRMyny",
    "outputId": "c1967fa7-c0bd-4a4d-bd6e-a06729466f51"
   },
   "outputs": [
    {
     "name": "stdout",
     "output_type": "stream",
     "text": [
      "Episode 1 Time in ms:300 Average Strehl: 0.011\n",
      "Episode 2 Time in ms:256 Average Strehl: 0.006\n",
      "Episode 3 Time in ms:295 Average Strehl: 0.006\n",
      "Episode 4 Time in ms:280 Average Strehl: 0.005\n",
      "Episode 5 Time in ms:213 Average Strehl: 0.009\n",
      "Episode 6 Time in ms:165 Average Strehl: 0.010\n",
      "Episode 7 Time in ms:111 Average Strehl: 0.007\n",
      "Episode 8 Time in ms:102 Average Strehl: 0.008\n",
      "Episode 9 Time in ms:128 Average Strehl: 0.011\n",
      "Episode 10 Time in ms:84 Average Strehl: 0.010\n",
      "Episode 11 Time in ms:121 Average Strehl: 0.018\n",
      "Episode 12 Time in ms:130 Average Strehl: 0.009\n",
      "Episode 13 Time in ms:93 Average Strehl: 0.010\n",
      "Episode 14 Time in ms:111 Average Strehl: 0.009\n",
      "Episode 15 Time in ms:80 Average Strehl: 0.007\n",
      "Episode 16 Time in ms:69 Average Strehl: 0.013\n",
      "Episode 17 Time in ms:92 Average Strehl: 0.019\n",
      "Episode 18 Time in ms:83 Average Strehl: 0.006\n",
      "Episode 19 Time in ms:111 Average Strehl: 0.007\n",
      "Episode 20 Time in ms:117 Average Strehl: 0.007\n",
      "Episode 21 Time in ms:68 Average Strehl: 0.007\n",
      "Episode 22 Time in ms:89 Average Strehl: 0.008\n",
      "Episode 23 Time in ms:72 Average Strehl: 0.013\n",
      "Episode 24 Time in ms:124 Average Strehl: 0.005\n",
      "Episode 25 Time in ms:103 Average Strehl: 0.007\n",
      "Episode 26 Time in ms:81 Average Strehl: 0.012\n",
      "Episode 27 Time in ms:70 Average Strehl: 0.006\n",
      "Episode 28 Time in ms:61 Average Strehl: 0.007\n",
      "Episode 29 Time in ms:97 Average Strehl: 0.005\n",
      "Episode 30 Time in ms:69 Average Strehl: 0.008\n",
      "Episode 31 Time in ms:54 Average Strehl: 0.007\n",
      "Episode 32 Time in ms:107 Average Strehl: 0.005\n",
      "Episode 33 Time in ms:55 Average Strehl: 0.007\n",
      "Episode 34 Time in ms:49 Average Strehl: 0.006\n",
      "Episode 35 Time in ms:60 Average Strehl: 0.007\n",
      "Episode 36 Time in ms:63 Average Strehl: 0.005\n",
      "Episode 37 Time in ms:105 Average Strehl: 0.003\n",
      "Episode 38 Time in ms:57 Average Strehl: 0.006\n",
      "Episode 39 Time in ms:117 Average Strehl: 0.004\n",
      "Episode 40 Time in ms:65 Average Strehl: 0.004\n",
      "Episode 41 Time in ms:54 Average Strehl: 0.005\n",
      "Episode 42 Time in ms:60 Average Strehl: 0.006\n",
      "Episode 43 Time in ms:79 Average Strehl: 0.005\n",
      "Episode 44 Time in ms:38 Average Strehl: 0.006\n",
      "Episode 45 Time in ms:54 Average Strehl: 0.006\n",
      "Episode 46 Time in ms:68 Average Strehl: 0.004\n",
      "Episode 47 Time in ms:48 Average Strehl: 0.005\n",
      "Episode 48 Time in ms:72 Average Strehl: 0.004\n",
      "Episode 49 Time in ms:171 Average Strehl: 0.003\n",
      "Episode 50 Time in ms:74 Average Strehl: 0.003\n",
      "Episode 51 Time in ms:66 Average Strehl: 0.004\n",
      "Episode 52 Time in ms:158 Average Strehl: 0.004\n",
      "Episode 53 Time in ms:117 Average Strehl: 0.004\n",
      "Episode 54 Time in ms:33 Average Strehl: 0.006\n",
      "Episode 55 Time in ms:28 Average Strehl: 0.006\n",
      "Episode 56 Time in ms:139 Average Strehl: 0.004\n",
      "Episode 57 Time in ms:60 Average Strehl: 0.005\n",
      "Episode 58 Time in ms:128 Average Strehl: 0.004\n",
      "Episode 59 Time in ms:39 Average Strehl: 0.005\n",
      "Episode 60 Time in ms:37 Average Strehl: 0.010\n",
      "Episode 61 Time in ms:42 Average Strehl: 0.005\n",
      "Episode 62 Time in ms:34 Average Strehl: 0.006\n",
      "Episode 63 Time in ms:37 Average Strehl: 0.005\n",
      "Episode 64 Time in ms:37 Average Strehl: 0.008\n",
      "Episode 65 Time in ms:42 Average Strehl: 0.008\n",
      "Episode 66 Time in ms:34 Average Strehl: 0.006\n",
      "Episode 67 Time in ms:39 Average Strehl: 0.007\n",
      "Episode 68 Time in ms:34 Average Strehl: 0.006\n",
      "Episode 69 Time in ms:39 Average Strehl: 0.007\n",
      "Episode 70 Time in ms:37 Average Strehl: 0.005\n",
      "Episode 71 Time in ms:36 Average Strehl: 0.008\n",
      "Episode 72 Time in ms:39 Average Strehl: 0.009\n",
      "Episode 73 Time in ms:31 Average Strehl: 0.006\n",
      "Episode 74 Time in ms:35 Average Strehl: 0.008\n",
      "Episode 75 Time in ms:34 Average Strehl: 0.010\n",
      "Episode 76 Time in ms:42 Average Strehl: 0.007\n",
      "Episode 77 Time in ms:38 Average Strehl: 0.008\n",
      "Episode 78 Time in ms:36 Average Strehl: 0.007\n",
      "Episode 79 Time in ms:37 Average Strehl: 0.006\n",
      "Episode 80 Time in ms:37 Average Strehl: 0.007\n",
      "Episode 81 Time in ms:38 Average Strehl: 0.007\n",
      "Episode 82 Time in ms:44 Average Strehl: 0.008\n",
      "Episode 83 Time in ms:39 Average Strehl: 0.006\n",
      "Episode 84 Time in ms:36 Average Strehl: 0.006\n",
      "Episode 85 Time in ms:36 Average Strehl: 0.009\n",
      "Episode 86 Time in ms:38 Average Strehl: 0.007\n",
      "Episode 87 Time in ms:40 Average Strehl: 0.007\n",
      "Episode 88 Time in ms:40 Average Strehl: 0.009\n",
      "Episode 89 Time in ms:38 Average Strehl: 0.008\n",
      "Episode 90 Time in ms:40 Average Strehl: 0.006\n",
      "Episode 91 Time in ms:38 Average Strehl: 0.007\n",
      "Episode 92 Time in ms:44 Average Strehl: 0.009\n",
      "Episode 93 Time in ms:38 Average Strehl: 0.007\n",
      "Episode 94 Time in ms:38 Average Strehl: 0.007\n",
      "Episode 95 Time in ms:34 Average Strehl: 0.008\n",
      "Episode 96 Time in ms:36 Average Strehl: 0.008\n",
      "Episode 97 Time in ms:43 Average Strehl: 0.010\n",
      "Episode 98 Time in ms:40 Average Strehl: 0.010\n",
      "Episode 99 Time in ms:44 Average Strehl: 0.007\n",
      "Episode 100 Time in ms:41 Average Strehl: 0.009\n",
      "Episode 101 Time in ms:38 Average Strehl: 0.008\n",
      "Episode 102 Time in ms:41 Average Strehl: 0.009\n",
      "Episode 103 Time in ms:42 Average Strehl: 0.013\n",
      "Episode 104 Time in ms:47 Average Strehl: 0.008\n",
      "Episode 105 Time in ms:42 Average Strehl: 0.006\n",
      "Episode 106 Time in ms:38 Average Strehl: 0.007\n",
      "Episode 107 Time in ms:46 Average Strehl: 0.010\n",
      "Episode 108 Time in ms:44 Average Strehl: 0.008\n",
      "Episode 109 Time in ms:44 Average Strehl: 0.008\n",
      "Episode 110 Time in ms:39 Average Strehl: 0.009\n",
      "Episode 111 Time in ms:44 Average Strehl: 0.008\n",
      "Episode 112 Time in ms:41 Average Strehl: 0.007\n",
      "Episode 113 Time in ms:45 Average Strehl: 0.012\n",
      "Episode 114 Time in ms:45 Average Strehl: 0.009\n",
      "Episode 115 Time in ms:46 Average Strehl: 0.008\n",
      "Episode 116 Time in ms:47 Average Strehl: 0.012\n",
      "Episode 117 Time in ms:50 Average Strehl: 0.006\n",
      "Episode 118 Time in ms:44 Average Strehl: 0.008\n",
      "Episode 119 Time in ms:44 Average Strehl: 0.010\n",
      "Episode 120 Time in ms:54 Average Strehl: 0.006\n",
      "Episode 121 Time in ms:50 Average Strehl: 0.008\n",
      "Episode 122 Time in ms:41 Average Strehl: 0.009\n",
      "Episode 123 Time in ms:52 Average Strehl: 0.009\n",
      "Episode 124 Time in ms:47 Average Strehl: 0.013\n",
      "Episode 125 Time in ms:50 Average Strehl: 0.009\n",
      "Episode 126 Time in ms:50 Average Strehl: 0.011\n",
      "Episode 127 Time in ms:53 Average Strehl: 0.006\n",
      "Episode 128 Time in ms:53 Average Strehl: 0.013\n",
      "Episode 129 Time in ms:48 Average Strehl: 0.010\n",
      "Episode 130 Time in ms:49 Average Strehl: 0.008\n",
      "Episode 131 Time in ms:55 Average Strehl: 0.007\n",
      "Episode 132 Time in ms:49 Average Strehl: 0.009\n",
      "Episode 133 Time in ms:53 Average Strehl: 0.008\n",
      "Episode 134 Time in ms:50 Average Strehl: 0.012\n",
      "Episode 135 Time in ms:58 Average Strehl: 0.012\n",
      "Episode 136 Time in ms:66 Average Strehl: 0.012\n",
      "Episode 137 Time in ms:50 Average Strehl: 0.008\n",
      "Episode 138 Time in ms:60 Average Strehl: 0.007\n",
      "Episode 139 Time in ms:59 Average Strehl: 0.007\n",
      "Episode 140 Time in ms:46 Average Strehl: 0.014\n",
      "Episode 141 Time in ms:66 Average Strehl: 0.009\n",
      "Episode 142 Time in ms:69 Average Strehl: 0.006\n",
      "Episode 143 Time in ms:56 Average Strehl: 0.009\n",
      "Episode 144 Time in ms:54 Average Strehl: 0.007\n",
      "Episode 145 Time in ms:57 Average Strehl: 0.013\n",
      "Episode 146 Time in ms:54 Average Strehl: 0.011\n",
      "Episode 147 Time in ms:53 Average Strehl: 0.006\n",
      "Episode 148 Time in ms:52 Average Strehl: 0.011\n",
      "Episode 149 Time in ms:54 Average Strehl: 0.010\n",
      "Episode 150 Time in ms:53 Average Strehl: 0.014\n",
      "Episode 151 Time in ms:59 Average Strehl: 0.011\n",
      "Episode 152 Time in ms:47 Average Strehl: 0.010\n",
      "Episode 153 Time in ms:52 Average Strehl: 0.010\n",
      "Episode 154 Time in ms:49 Average Strehl: 0.010\n",
      "Episode 155 Time in ms:56 Average Strehl: 0.011\n",
      "Episode 156 Time in ms:58 Average Strehl: 0.006\n",
      "Episode 157 Time in ms:49 Average Strehl: 0.007\n",
      "Episode 158 Time in ms:59 Average Strehl: 0.009\n",
      "Episode 159 Time in ms:50 Average Strehl: 0.012\n",
      "Episode 160 Time in ms:53 Average Strehl: 0.012\n",
      "Episode 161 Time in ms:45 Average Strehl: 0.008\n",
      "Episode 162 Time in ms:54 Average Strehl: 0.011\n",
      "Episode 163 Time in ms:56 Average Strehl: 0.007\n",
      "Episode 164 Time in ms:50 Average Strehl: 0.010\n",
      "Episode 165 Time in ms:46 Average Strehl: 0.013\n",
      "Episode 166 Time in ms:56 Average Strehl: 0.014\n",
      "Episode 167 Time in ms:43 Average Strehl: 0.010\n",
      "Episode 168 Time in ms:42 Average Strehl: 0.010\n",
      "Episode 169 Time in ms:46 Average Strehl: 0.009\n",
      "Episode 170 Time in ms:54 Average Strehl: 0.014\n",
      "Episode 171 Time in ms:55 Average Strehl: 0.013\n",
      "Episode 172 Time in ms:49 Average Strehl: 0.008\n"
     ]
    },
    {
     "name": "stdout",
     "output_type": "stream",
     "text": [
      "Episode 173 Time in ms:56 Average Strehl: 0.008\n",
      "Episode 174 Time in ms:50 Average Strehl: 0.016\n",
      "Episode 175 Time in ms:51 Average Strehl: 0.009\n",
      "Episode 176 Time in ms:41 Average Strehl: 0.008\n",
      "Episode 177 Time in ms:55 Average Strehl: 0.015\n",
      "Episode 178 Time in ms:52 Average Strehl: 0.008\n",
      "Episode 179 Time in ms:56 Average Strehl: 0.011\n",
      "Episode 180 Time in ms:44 Average Strehl: 0.010\n",
      "Episode 181 Time in ms:50 Average Strehl: 0.018\n",
      "Episode 182 Time in ms:48 Average Strehl: 0.009\n",
      "Episode 183 Time in ms:45 Average Strehl: 0.011\n",
      "Episode 184 Time in ms:52 Average Strehl: 0.014\n",
      "Episode 185 Time in ms:45 Average Strehl: 0.015\n",
      "Episode 186 Time in ms:63 Average Strehl: 0.027\n",
      "Episode 187 Time in ms:43 Average Strehl: 0.010\n",
      "Episode 188 Time in ms:59 Average Strehl: 0.016\n",
      "Episode 189 Time in ms:48 Average Strehl: 0.014\n",
      "Episode 190 Time in ms:46 Average Strehl: 0.020\n",
      "Episode 191 Time in ms:58 Average Strehl: 0.023\n",
      "Episode 192 Time in ms:63 Average Strehl: 0.018\n",
      "Episode 193 Time in ms:69 Average Strehl: 0.027\n",
      "Episode 194 Time in ms:68 Average Strehl: 0.031\n",
      "Episode 195 Time in ms:64 Average Strehl: 0.033\n",
      "Episode 196 Time in ms:55 Average Strehl: 0.010\n",
      "Episode 197 Time in ms:68 Average Strehl: 0.032\n",
      "Episode 198 Time in ms:76 Average Strehl: 0.032\n",
      "Episode 199 Time in ms:80 Average Strehl: 0.017\n",
      "Episode 200 Time in ms:80 Average Strehl: 0.026\n",
      "Episode 201 Time in ms:88 Average Strehl: 0.026\n",
      "Episode 202 Time in ms:91 Average Strehl: 0.021\n",
      "Episode 203 Time in ms:100 Average Strehl: 0.021\n",
      "Episode 204 Time in ms:111 Average Strehl: 0.028\n",
      "Episode 205 Time in ms:135 Average Strehl: 0.047\n",
      "Episode 206 Time in ms:200 Average Strehl: 0.066\n",
      "Episode 207 Time in ms:277 Average Strehl: 0.054\n",
      "Episode 208 Time in ms:300 Average Strehl: 0.181\n",
      "Episode 209 Time in ms:300 Average Strehl: 0.290\n",
      "Episode 210 Time in ms:300 Average Strehl: 0.332\n",
      "Episode 211 Time in ms:300 Average Strehl: 0.178\n",
      "Episode 212 Time in ms:300 Average Strehl: 0.332\n",
      "Episode 213 Time in ms:300 Average Strehl: 0.266\n",
      "Episode 214 Time in ms:300 Average Strehl: 0.149\n",
      "Episode 215 Time in ms:300 Average Strehl: 0.332\n",
      "Episode 216 Time in ms:300 Average Strehl: 0.571\n",
      "Episode 217 Time in ms:300 Average Strehl: 0.672\n",
      "Episode 218 Time in ms:300 Average Strehl: 0.666\n",
      "Episode 219 Time in ms:300 Average Strehl: 0.671\n",
      "Episode 220 Time in ms:300 Average Strehl: 0.688\n",
      "Episode 221 Time in ms:300 Average Strehl: 0.674\n",
      "Episode 222 Time in ms:300 Average Strehl: 0.721\n",
      "Episode 223 Time in ms:300 Average Strehl: 0.687\n",
      "Episode 224 Time in ms:300 Average Strehl: 0.713\n",
      "Episode 225 Time in ms:300 Average Strehl: 0.700\n",
      "Episode 226 Time in ms:300 Average Strehl: 0.729\n",
      "Episode 227 Time in ms:300 Average Strehl: 0.679\n",
      "Episode 228 Time in ms:300 Average Strehl: 0.703\n",
      "Episode 229 Time in ms:300 Average Strehl: 0.694\n",
      "Episode 230 Time in ms:300 Average Strehl: 0.669\n",
      "Episode 231 Time in ms:300 Average Strehl: 0.699\n",
      "Episode 232 Time in ms:300 Average Strehl: 0.687\n",
      "Episode 233 Time in ms:300 Average Strehl: 0.681\n",
      "Episode 234 Time in ms:300 Average Strehl: 0.675\n",
      "Episode 235 Time in ms:300 Average Strehl: 0.693\n",
      "Episode 236 Time in ms:300 Average Strehl: 0.673\n",
      "Episode 237 Time in ms:300 Average Strehl: 0.733\n",
      "Episode 238 Time in ms:300 Average Strehl: 0.695\n",
      "Episode 239 Time in ms:300 Average Strehl: 0.729\n",
      "Episode 240 Time in ms:300 Average Strehl: 0.708\n",
      "Episode 241 Time in ms:300 Average Strehl: 0.690\n",
      "Episode 242 Time in ms:300 Average Strehl: 0.731\n",
      "Episode 243 Time in ms:300 Average Strehl: 0.712\n",
      "Episode 244 Time in ms:300 Average Strehl: 0.747\n",
      "Episode 245 Time in ms:300 Average Strehl: 0.651\n",
      "Episode 246 Time in ms:300 Average Strehl: 0.724\n",
      "Episode 247 Time in ms:300 Average Strehl: 0.682\n",
      "Episode 248 Time in ms:300 Average Strehl: 0.701\n",
      "Episode 249 Time in ms:300 Average Strehl: 0.703\n",
      "Episode 250 Time in ms:300 Average Strehl: 0.632\n",
      "Episode 251 Time in ms:300 Average Strehl: 0.625\n",
      "Episode 252 Time in ms:300 Average Strehl: 0.616\n",
      "Episode 253 Time in ms:300 Average Strehl: 0.647\n",
      "Episode 254 Time in ms:300 Average Strehl: 0.678\n",
      "Episode 255 Time in ms:300 Average Strehl: 0.666\n",
      "Episode 256 Time in ms:300 Average Strehl: 0.646\n",
      "Episode 257 Time in ms:300 Average Strehl: 0.615\n",
      "Episode 258 Time in ms:300 Average Strehl: 0.607\n",
      "Episode 259 Time in ms:300 Average Strehl: 0.560\n",
      "Episode 260 Time in ms:300 Average Strehl: 0.598\n",
      "Episode 261 Time in ms:300 Average Strehl: 0.645\n",
      "Episode 262 Time in ms:300 Average Strehl: 0.674\n",
      "Episode 263 Time in ms:300 Average Strehl: 0.687\n",
      "Episode 264 Time in ms:300 Average Strehl: 0.680\n",
      "Episode 265 Time in ms:300 Average Strehl: 0.697\n",
      "Episode 266 Time in ms:300 Average Strehl: 0.710\n",
      "Episode 267 Time in ms:300 Average Strehl: 0.745\n",
      "Episode 268 Time in ms:300 Average Strehl: 0.707\n",
      "Episode 269 Time in ms:300 Average Strehl: 0.697\n",
      "Episode 270 Time in ms:300 Average Strehl: 0.702\n",
      "Episode 271 Time in ms:300 Average Strehl: 0.638\n",
      "Episode 272 Time in ms:300 Average Strehl: 0.696\n",
      "Episode 273 Time in ms:300 Average Strehl: 0.701\n",
      "Episode 274 Time in ms:300 Average Strehl: 0.680\n",
      "Episode 275 Time in ms:300 Average Strehl: 0.677\n",
      "Episode 276 Time in ms:300 Average Strehl: 0.651\n",
      "Episode 277 Time in ms:300 Average Strehl: 0.688\n",
      "Episode 278 Time in ms:300 Average Strehl: 0.738\n",
      "Episode 279 Time in ms:300 Average Strehl: 0.720\n",
      "Episode 280 Time in ms:300 Average Strehl: 0.709\n",
      "Episode 281 Time in ms:300 Average Strehl: 0.732\n",
      "Episode 282 Time in ms:300 Average Strehl: 0.674\n",
      "Episode 283 Time in ms:300 Average Strehl: 0.704\n",
      "Episode 284 Time in ms:300 Average Strehl: 0.664\n",
      "Episode 285 Time in ms:300 Average Strehl: 0.709\n",
      "Episode 286 Time in ms:300 Average Strehl: 0.653\n",
      "Episode 287 Time in ms:300 Average Strehl: 0.704\n",
      "Episode 288 Time in ms:300 Average Strehl: 0.649\n",
      "Episode 289 Time in ms:300 Average Strehl: 0.711\n",
      "Episode 290 Time in ms:300 Average Strehl: 0.683\n",
      "Episode 291 Time in ms:300 Average Strehl: 0.708\n",
      "Episode 292 Time in ms:300 Average Strehl: 0.705\n",
      "Episode 293 Time in ms:300 Average Strehl: 0.699\n",
      "Episode 294 Time in ms:300 Average Strehl: 0.723\n",
      "Episode 295 Time in ms:300 Average Strehl: 0.735\n",
      "Episode 296 Time in ms:300 Average Strehl: 0.695\n",
      "Episode 297 Time in ms:300 Average Strehl: 0.688\n",
      "Episode 298 Time in ms:300 Average Strehl: 0.738\n",
      "Episode 299 Time in ms:300 Average Strehl: 0.734\n",
      "Episode 300 Time in ms:300 Average Strehl: 0.730\n",
      "\n",
      "Environment solved in 200 episodes!\tAverage Score: 0.606\n"
     ]
    },
    {
     "data": {
      "image/png": "[encoded data removed]",
      "text/plain": [
       "<Figure size 432x288 with 1 Axes>"
      ]
     },
     "metadata": {
      "needs_background": "light"
     },
     "output_type": "display_data"
    }
   ],
   "source": [
    "def ddpg(n_episodes=1000, print_every=100):\n",
    "    scores_deque = deque(maxlen=print_every)\n",
    "    scores = []\n",
    "    \n",
    "    for i_episode in range(1, n_episodes+1):\n",
    "        state = tb.reset()\n",
    "        agent.reset()\n",
    "        score = 0\n",
    "        t = 0\n",
    "        \n",
    "        while(t < 300):\n",
    "            t += 1\n",
    "            action = agent.act(state)\n",
    "            \n",
    "            next_state, reward, done, _ = tb.step(np.squeeze(action))\n",
    "            \n",
    "            #if t == 300:\n",
    "                #done = True\n",
    "            \n",
    "            agent.step(t, state, action, -np.log10(1 - reward), next_state, done)\n",
    "            \n",
    "            state = next_state.copy()\n",
    "            score += reward\n",
    "            \n",
    "            print('\\rEpisode {} Time in ms:{} Score: {:.3f}'.format(i_episode, t, reward), end=\"\")\n",
    "            \n",
    "            if done:\n",
    "                break\n",
    "                \n",
    "        scores_deque.append(score / t)\n",
    "        scores.append(score / t)\n",
    "        agent.actor_local.model.save('checkpoint_actor.h5')\n",
    "        agent.critic_local.model.save('checkpoint_critic.h5')\n",
    "        print('\\rEpisode {} Time in ms:{} Average Strehl: {:.3f}'.format(i_episode, t, (score / t)))\n",
    "        \n",
    "        if np.mean(scores_deque) >= 0.8:\n",
    "            print('\\nEnvironment solved in {:d} episodes!\\tAverage Score: {:.3f}'.format(i_episode-100, np.mean(scores_deque)))\n",
    "            agent.actor_local.model.save('checkpoint_actor.h5')\n",
    "            agent.critic_local.model.save('checkpoint_critic.h5')\n",
    "            break\n",
    "\n",
    "    return scores\n",
    "\n",
    "scores = ddpg()\n",
    "\n",
    "fig = plt.figure()\n",
    "ax = fig.add_subplot(111)\n",
    "plt.plot(np.arange(1, len(scores)+1), scores)\n",
    "plt.ylabel('Score')\n",
    "plt.xlabel('Episode #')\n",
    "plt.show()"
   ]
  },
  {
   "cell_type": "code",
   "execution_count": null,
   "metadata": {},
   "outputs": [],
   "source": [
    "plt.imshow(np.squeeze(tb.state))\n",
    "plt.colorbar()"
   ]
  },
  {
   "cell_type": "markdown",
   "metadata": {},
   "source": [
    "### Step 5: Watch a trained agent in action"
   ]
  },
  {
   "cell_type": "code",
   "execution_count": 10,
   "metadata": {},
   "outputs": [
    {
     "name": "stdout",
     "output_type": "stream",
     "text": [
      "Time in ms:300\t Strehl: 0.73Average Strehl is: 0.75\n"
     ]
    }
   ],
   "source": [
    "n_episodes = 1\n",
    "\n",
    "for i_episode in range(1, n_episodes+1):\n",
    "    state = tb.reset()\n",
    "    score = 0\n",
    "    t = 0\n",
    "        \n",
    "    while(t < 300):\n",
    "        t += 1\n",
    "        state = np.expand_dims(state, 0)\n",
    "        action = agent.actor_local.model(state)\n",
    "        action = action.numpy()[0]\n",
    "        next_state, reward, done, _ = tb.step(action)\n",
    "        print('\\rTime in ms:{}\\t Strehl: {:.2f}'.format(t, reward), end=\"\")\n",
    "        state = next_state\n",
    "        score += reward\n",
    "        \n",
    "        if done:\n",
    "            break\n",
    "        \n",
    "print(\"\\nAverage Strehl is: {:.2f}\".format(score/t))"
   ]
  },
  {
   "cell_type": "markdown",
   "metadata": {},
   "source": [
    "### Step 6: Train the agent now to maximize contrast"
   ]
  },
  {
   "cell_type": "code",
   "execution_count": 21,
   "metadata": {},
   "outputs": [
    {
     "name": "stdout",
     "output_type": "stream",
     "text": [
      "Loading pre-calibrated control matrix\n"
     ]
    },
    {
     "name": "stderr",
     "output_type": "stream",
     "text": [
      "/home/vikram/miniconda3/envs/ai_esports/lib/python3.7/site-packages/gym/logger.py:30: UserWarning: \u001b[33mWARN: Box bound precision lowered by casting to float64\u001b[0m\n",
      "  warnings.warn(colorize('%s: %s'%('WARN', msg % args), 'yellow'))\n"
     ]
    }
   ],
   "source": [
    "app = Apodizer(app_amp * np.exp(1j * app_phase))\n",
    "\n",
    "tb_contrast = HCI_TestBench(wf_tel, timestep, atmosphere, demag, dm, mask, shwfs, shwfse, ncp, app, prop, science_camera, dz_ind, rwrd_func=\"contrast\")"
   ]
  },
  {
   "cell_type": "code",
   "execution_count": 23,
   "metadata": {},
   "outputs": [
    {
     "name": "stdout",
     "output_type": "stream",
     "text": [
      "Time in ms:300\t Log contrast: 3.93\n",
      "Average log contrast is: 3.60\n"
     ]
    }
   ],
   "source": [
    "n_episodes = 1\n",
    "\n",
    "for i_episode in range(1, n_episodes+1):\n",
    "    state = tb_contrast.reset()\n",
    "    score = 0\n",
    "    t = 0\n",
    "        \n",
    "    while(t < 300):\n",
    "        t += 1\n",
    "        state = np.expand_dims(state, 0)\n",
    "        action = agent.actor_local.model(state)\n",
    "        action = action.numpy()[0]\n",
    "        next_state, reward, done, _ = tb_contrast.step(action)\n",
    "        print('\\rTime in ms:{}\\t Log contrast: {:.2f}'.format(t, reward), end=\"\")\n",
    "        state = next_state\n",
    "        score += reward\n",
    "        \n",
    "        if done:\n",
    "            break\n",
    "        \n",
    "print(\"\\nAverage log contrast is: {:.2f}\".format(score/t))"
   ]
  },
  {
   "cell_type": "code",
   "execution_count": 30,
   "metadata": {},
   "outputs": [],
   "source": [
    "ACTOR_LR = 1e-7\n",
    "CRITIC_LR = 1e-3\n",
    "EPSILON_START = 1\n",
    "EPSILON_END = 1e-3\n",
    "\n",
    "agent_contrast = DDPG(state_size, action_size, ACTOR_LR, CRITIC_LR,\n",
    "                      RANDOM_SEED, MU, THETA, SIGMA, BUFFER_SIZE, BATCH_SIZE,\n",
    "                      EPSILON_START, EPSILON_END, EPSILON_DECAY,\n",
    "                      GAMMA, TAU, N_TIME_STEPS, N_LEARN_UPDATES, DEVICE)"
   ]
  },
  {
   "cell_type": "code",
   "execution_count": 34,
   "metadata": {},
   "outputs": [
    {
     "name": "stdout",
     "output_type": "stream",
     "text": [
      "Model: \"Actor_local\"\n",
      "_________________________________________________________________\n",
      "Layer (type)                 Output Shape              Param #   \n",
      "=================================================================\n",
      "input_1 (InputLayer)         [(None, 25, 25, 1)]       0         \n",
      "_________________________________________________________________\n",
      "conv2d (Conv2D)              (None, 25, 25, 8)         80        \n",
      "_________________________________________________________________\n",
      "conv2d_1 (Conv2D)            (None, 25, 25, 1)         73        \n",
      "=================================================================\n",
      "Total params: 153\n",
      "Trainable params: 153\n",
      "Non-trainable params: 0\n",
      "_________________________________________________________________\n"
     ]
    }
   ],
   "source": [
    "agent_contrast.actor_local.model.summary()"
   ]
  },
  {
   "cell_type": "code",
   "execution_count": 31,
   "metadata": {},
   "outputs": [],
   "source": [
    "agent_contrast.actor_local.model.set_weights(agent.actor_local.model.get_weights())\n",
    "agent_contrast.actor_target.model.set_weights(agent.actor_local.model.get_weights())"
   ]
  },
  {
   "cell_type": "code",
   "execution_count": 32,
   "metadata": {},
   "outputs": [
    {
     "name": "stdout",
     "output_type": "stream",
     "text": [
      "Episode 1 Time in ms:300 Average Contrast: 3.369\n",
      "Episode 2 Time in ms:300 Average Contrast: 3.457\n",
      "Episode 3 Time in ms:300 Average Contrast: 3.422\n",
      "Episode 4 Time in ms:300 Average Contrast: 3.426\n",
      "Episode 5 Time in ms:300 Average Contrast: 3.387\n",
      "Episode 6 Time in ms:300 Average Contrast: 3.396\n",
      "Episode 7 Time in ms:300 Average Contrast: 3.341\n",
      "Episode 8 Time in ms:300 Average Contrast: 3.422\n",
      "Episode 9 Time in ms:300 Average Contrast: 3.486\n",
      "Episode 10 Time in ms:300 Average Contrast: 3.276\n",
      "Episode 11 Time in ms:300 Average Contrast: 3.353\n",
      "Episode 12 Time in ms:300 Average Contrast: 3.421\n",
      "Episode 13 Time in ms:300 Average Contrast: 3.425\n",
      "Episode 14 Time in ms:300 Average Contrast: 3.493\n",
      "Episode 15 Time in ms:300 Average Contrast: 3.406\n",
      "Episode 16 Time in ms:300 Average Contrast: 3.392\n",
      "Episode 17 Time in ms:300 Average Contrast: 3.404\n",
      "Episode 18 Time in ms:300 Average Contrast: 3.503\n",
      "Episode 19 Time in ms:300 Average Contrast: 3.399\n",
      "Episode 20 Time in ms:300 Average Contrast: 3.324\n",
      "Episode 21 Time in ms:300 Average Contrast: 3.475\n",
      "Episode 22 Time in ms:300 Average Contrast: 3.464\n",
      "Episode 23 Time in ms:300 Average Contrast: 3.414\n",
      "Episode 24 Time in ms:300 Average Contrast: 3.427\n",
      "Episode 25 Time in ms:300 Average Contrast: 3.484\n",
      "Episode 26 Time in ms:300 Average Contrast: 3.480\n",
      "Episode 27 Time in ms:300 Average Contrast: 3.383\n",
      "Episode 28 Time in ms:300 Average Contrast: 3.518\n",
      "Episode 29 Time in ms:300 Average Contrast: 3.428\n",
      "Episode 30 Time in ms:300 Average Contrast: 3.379\n",
      "Episode 31 Time in ms:300 Average Contrast: 3.481\n",
      "Episode 32 Time in ms:300 Average Contrast: 3.466\n",
      "Episode 33 Time in ms:300 Average Contrast: 3.391\n",
      "Episode 34 Time in ms:300 Average Contrast: 3.443\n",
      "Episode 35 Time in ms:300 Average Contrast: 3.377\n",
      "Episode 36 Time in ms:300 Average Contrast: 3.430\n",
      "Episode 37 Time in ms:300 Average Contrast: 3.394\n",
      "Episode 38 Time in ms:300 Average Contrast: 3.447\n",
      "Episode 39 Time in ms:300 Average Contrast: 3.372\n",
      "Episode 40 Time in ms:300 Average Contrast: 3.476\n",
      "Episode 41 Time in ms:300 Average Contrast: 3.425\n",
      "Episode 42 Time in ms:300 Average Contrast: 3.486\n",
      "Episode 43 Time in ms:300 Average Contrast: 3.341\n",
      "Episode 44 Time in ms:300 Average Contrast: 3.416\n",
      "Episode 45 Time in ms:300 Average Contrast: 3.504\n",
      "Episode 46 Time in ms:300 Average Contrast: 3.463\n",
      "Episode 47 Time in ms:300 Average Contrast: 3.431\n",
      "Episode 48 Time in ms:300 Average Contrast: 3.444\n",
      "Episode 49 Time in ms:300 Average Contrast: 3.437\n",
      "Episode 50 Time in ms:300 Average Contrast: 3.479\n",
      "Episode 51 Time in ms:159\t Contrast: 3.41"
     ]
    },
    {
     "ename": "KeyboardInterrupt",
     "evalue": "",
     "output_type": "error",
     "traceback": [
      "\u001b[0;31m---------------------------------------------------------------------------\u001b[0m",
      "\u001b[0;31mKeyboardInterrupt\u001b[0m                         Traceback (most recent call last)",
      "\u001b[0;32m<ipython-input-32-fcaae1ed54cb>\u001b[0m in \u001b[0;36m<module>\u001b[0;34m\u001b[0m\n\u001b[1;32m     42\u001b[0m \u001b[0;34m\u001b[0m\u001b[0m\n\u001b[1;32m     43\u001b[0m \u001b[0;34m\u001b[0m\u001b[0m\n\u001b[0;32m---> 44\u001b[0;31m \u001b[0mscores\u001b[0m \u001b[0;34m=\u001b[0m \u001b[0mcontrast_ctrl\u001b[0m\u001b[0;34m(\u001b[0m\u001b[0;34m)\u001b[0m\u001b[0;34m\u001b[0m\u001b[0;34m\u001b[0m\u001b[0m\n\u001b[0m\u001b[1;32m     45\u001b[0m \u001b[0;34m\u001b[0m\u001b[0m\n\u001b[1;32m     46\u001b[0m \u001b[0mfig\u001b[0m \u001b[0;34m=\u001b[0m \u001b[0mplt\u001b[0m\u001b[0;34m.\u001b[0m\u001b[0mfigure\u001b[0m\u001b[0;34m(\u001b[0m\u001b[0;34m)\u001b[0m\u001b[0;34m\u001b[0m\u001b[0;34m\u001b[0m\u001b[0m\n",
      "\u001b[0;32m<ipython-input-32-fcaae1ed54cb>\u001b[0m in \u001b[0;36mcontrast_ctrl\u001b[0;34m(n_episodes, print_every)\u001b[0m\n\u001b[1;32m     12\u001b[0m             \u001b[0mt\u001b[0m \u001b[0;34m+=\u001b[0m \u001b[0;36m1\u001b[0m\u001b[0;34m\u001b[0m\u001b[0;34m\u001b[0m\u001b[0m\n\u001b[1;32m     13\u001b[0m             \u001b[0maction\u001b[0m \u001b[0;34m=\u001b[0m \u001b[0magent_contrast\u001b[0m\u001b[0;34m.\u001b[0m\u001b[0mact\u001b[0m\u001b[0;34m(\u001b[0m\u001b[0mstate\u001b[0m\u001b[0;34m)\u001b[0m\u001b[0;34m\u001b[0m\u001b[0;34m\u001b[0m\u001b[0m\n\u001b[0;32m---> 14\u001b[0;31m             \u001b[0mnext_state\u001b[0m\u001b[0;34m,\u001b[0m \u001b[0mreward\u001b[0m\u001b[0;34m,\u001b[0m \u001b[0mdone\u001b[0m\u001b[0;34m,\u001b[0m \u001b[0m_\u001b[0m \u001b[0;34m=\u001b[0m \u001b[0mtb_contrast\u001b[0m\u001b[0;34m.\u001b[0m\u001b[0mstep\u001b[0m\u001b[0;34m(\u001b[0m\u001b[0mnp\u001b[0m\u001b[0;34m.\u001b[0m\u001b[0msqueeze\u001b[0m\u001b[0;34m(\u001b[0m\u001b[0maction\u001b[0m\u001b[0;34m)\u001b[0m\u001b[0;34m)\u001b[0m\u001b[0;34m\u001b[0m\u001b[0;34m\u001b[0m\u001b[0m\n\u001b[0m\u001b[1;32m     15\u001b[0m \u001b[0;34m\u001b[0m\u001b[0m\n\u001b[1;32m     16\u001b[0m \u001b[0;34m\u001b[0m\u001b[0m\n",
      "\u001b[0;32m~/Work/DeepContrast/envs/HCI_TestBench_residual.py\u001b[0m in \u001b[0;36mstep\u001b[0;34m(self, action)\u001b[0m\n\u001b[1;32m    193\u001b[0m \u001b[0;34m\u001b[0m\u001b[0m\n\u001b[1;32m    194\u001b[0m         \u001b[0;31m# Wavefront sensor optical path\u001b[0m\u001b[0;34m\u001b[0m\u001b[0;34m\u001b[0m\u001b[0;34m\u001b[0m\u001b[0m\n\u001b[0;32m--> 195\u001b[0;31m         \u001b[0mself\u001b[0m\u001b[0;34m.\u001b[0m\u001b[0m_wfs_phase_acts\u001b[0m \u001b[0;34m=\u001b[0m \u001b[0mself\u001b[0m\u001b[0;34m.\u001b[0m\u001b[0m_wfs_forward\u001b[0m\u001b[0;34m(\u001b[0m\u001b[0;34m)\u001b[0m\u001b[0;34m\u001b[0m\u001b[0;34m\u001b[0m\u001b[0m\n\u001b[0m\u001b[1;32m    196\u001b[0m \u001b[0;34m\u001b[0m\u001b[0m\n\u001b[1;32m    197\u001b[0m         \u001b[0mwfs_measurement\u001b[0m \u001b[0;34m=\u001b[0m \u001b[0mself\u001b[0m\u001b[0;34m.\u001b[0m\u001b[0m_wfs_phase_acts\u001b[0m\u001b[0;34m.\u001b[0m\u001b[0mcopy\u001b[0m\u001b[0;34m(\u001b[0m\u001b[0;34m)\u001b[0m\u001b[0;34m.\u001b[0m\u001b[0mreshape\u001b[0m\u001b[0;34m(\u001b[0m\u001b[0;34m(\u001b[0m\u001b[0mself\u001b[0m\u001b[0;34m.\u001b[0m\u001b[0m_dm_actside\u001b[0m\u001b[0;34m,\u001b[0m \u001b[0mself\u001b[0m\u001b[0;34m.\u001b[0m\u001b[0m_dm_actside\u001b[0m\u001b[0;34m,\u001b[0m \u001b[0;34m-\u001b[0m\u001b[0;36m1\u001b[0m\u001b[0;34m)\u001b[0m\u001b[0;34m)\u001b[0m \u001b[0;34m*\u001b[0m \u001b[0mself\u001b[0m\u001b[0;34m.\u001b[0m\u001b[0m_meters_to_rads\u001b[0m\u001b[0;31m#1e6\u001b[0m\u001b[0;34m\u001b[0m\u001b[0;34m\u001b[0m\u001b[0m\n",
      "\u001b[0;32m~/Work/DeepContrast/envs/HCI_TestBench_residual.py\u001b[0m in \u001b[0;36m_wfs_forward\u001b[0;34m(self)\u001b[0m\n\u001b[1;32m    121\u001b[0m         \u001b[0mdm_surface\u001b[0m \u001b[0;34m=\u001b[0m \u001b[0mmeasured_phase\u001b[0m \u001b[0;34m/\u001b[0m \u001b[0;34m(\u001b[0m\u001b[0;34m-\u001b[0m\u001b[0;36m2\u001b[0m \u001b[0;34m*\u001b[0m \u001b[0mself\u001b[0m\u001b[0;34m.\u001b[0m\u001b[0m_wavefront\u001b[0m\u001b[0;34m.\u001b[0m\u001b[0mwavenumber\u001b[0m\u001b[0;34m)\u001b[0m\u001b[0;34m\u001b[0m\u001b[0;34m\u001b[0m\u001b[0m\n\u001b[1;32m    122\u001b[0m \u001b[0;34m\u001b[0m\u001b[0m\n\u001b[0;32m--> 123\u001b[0;31m         \u001b[0mamplitudes\u001b[0m \u001b[0;34m=\u001b[0m \u001b[0mnp\u001b[0m\u001b[0;34m.\u001b[0m\u001b[0mdot\u001b[0m\u001b[0;34m(\u001b[0m\u001b[0mself\u001b[0m\u001b[0;34m.\u001b[0m\u001b[0m_inverse_tm\u001b[0m\u001b[0;34m,\u001b[0m \u001b[0mdm_surface\u001b[0m\u001b[0;34m)\u001b[0m\u001b[0;34m\u001b[0m\u001b[0;34m\u001b[0m\u001b[0m\n\u001b[0m\u001b[1;32m    124\u001b[0m         \u001b[0mamplitudes\u001b[0m \u001b[0;34m*=\u001b[0m \u001b[0mself\u001b[0m\u001b[0;34m.\u001b[0m\u001b[0m_mask\u001b[0m\u001b[0;34m\u001b[0m\u001b[0;34m\u001b[0m\u001b[0m\n\u001b[1;32m    125\u001b[0m \u001b[0;34m\u001b[0m\u001b[0m\n",
      "\u001b[0;32m<__array_function__ internals>\u001b[0m in \u001b[0;36mdot\u001b[0;34m(*args, **kwargs)\u001b[0m\n",
      "\u001b[0;31mKeyboardInterrupt\u001b[0m: "
     ]
    }
   ],
   "source": [
    "def contrast_ctrl(n_episodes=1000, print_every=100):\n",
    "    scores_deque = deque(maxlen=print_every)\n",
    "    scores = []\n",
    "    \n",
    "    for i_episode in range(1, n_episodes+1):\n",
    "        state = tb_contrast.reset()\n",
    "        agent.reset()\n",
    "        score = 0\n",
    "        t = 0\n",
    "        \n",
    "        while(t < 300):\n",
    "            t += 1\n",
    "            action = agent_contrast.act(state)\n",
    "            next_state, reward, done, _ = tb_contrast.step(np.squeeze(action))\n",
    "            \n",
    "            \n",
    "            agent_contrast.step(t, state, action, reward**2, next_state, done)\n",
    "            state = next_state.copy()\n",
    "            score += reward\n",
    "            \n",
    "            print('\\rEpisode {} Time in ms:{}\\t Contrast: {:.2f}'.format(i_episode, t, reward), end=\"\")\n",
    "            \n",
    "            if t == 300:\n",
    "                done = True\n",
    "                \n",
    "            if done:\n",
    "                break\n",
    "                \n",
    "        scores_deque.append(score / t)\n",
    "        scores.append(score / t)\n",
    "        agent_contrast.actor_local.model.save('ctrst_actor.h5')\n",
    "        agent_contrast.critic_local.model.save('ctrst_critic.h5')\n",
    "        print('\\rEpisode {} Time in ms:{} Average Contrast: {:.3f}'.format(i_episode, t, (score / t)))\n",
    "        \n",
    "        if np.mean(scores_deque) >= 7:\n",
    "            print('\\nEnvironment solved in {:d} episodes!\\tAverage Score: {:.2f}'.format(i_episode-100, np.mean(scores_deque)))\n",
    "            agent_contrast.actor_local.model.save('cntrst_actor.h5')\n",
    "            agent_contrast.critic_local.model.save('cntrst_critic.h5')\n",
    "            break\n",
    "            \n",
    "    return scores\n",
    "\n",
    "\n",
    "scores = contrast_ctrl()\n",
    "\n",
    "fig = plt.figure()\n",
    "ax = fig.add_subplot(111)\n",
    "plt.plot(np.arange(1, len(scores)+1), scores)\n",
    "plt.ylabel('log10 Contrast')\n",
    "plt.xlabel('Episode #')\n",
    "plt.show()"
   ]
  },
  {
   "cell_type": "code",
   "execution_count": null,
   "metadata": {},
   "outputs": [],
   "source": [
    "imshow_field(np.log10(tb_contrast._img / tb_contrast._img.max()), vmin=-4, grid=plot_grid)"
   ]
  },
  {
   "cell_type": "code",
   "execution_count": null,
   "metadata": {},
   "outputs": [],
   "source": [
    "state = tb_contrast.reset()\n",
    "state = np.expand_dims(state, 0)\n",
    "action = agent_contrast.actor_local.model(state)\n",
    "action = action.numpy()[0]\n",
    "#action = state[:, :, 0].copy() + state[:, :, 1].copy()\n",
    "#action = np.clip(action, -1, 1)\n",
    "next_state, reward, done, _ = tb_contrast.step(action.squeeze())\n",
    "\n",
    "reward"
   ]
  }
 ],
 "metadata": {
  "colab": {
   "collapsed_sections": [],
   "name": "HCI_DRL_2Dstate.ipynb",
   "provenance": [],
   "toc_visible": true
  },
  "kernelspec": {
   "display_name": "Python 3",
   "language": "python",
   "name": "python3"
  },
  "language_info": {
   "codemirror_mode": {
    "name": "ipython",
    "version": 3
   },
   "file_extension": ".py",
   "mimetype": "text/x-python",
   "name": "python",
   "nbconvert_exporter": "python",
   "pygments_lexer": "ipython3",
   "version": "3.7.6"
  }
 },
 "nbformat": 4,
 "nbformat_minor": 1
}
