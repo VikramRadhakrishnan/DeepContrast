{
 "cells": [
  {
   "cell_type": "markdown",
   "metadata": {
    "colab_type": "text",
    "id": "Ckf9HBuk4bah"
   },
   "source": [
    "# Calibrate the DM using a Shack-Hartmann wavefront sensor"
   ]
  },
  {
   "cell_type": "markdown",
   "metadata": {
    "colab_type": "text",
    "id": "OJMsldF_5U70"
   },
   "source": [
    "### Step 1: Installing hcipy on colab."
   ]
  },
  {
   "cell_type": "code",
   "execution_count": null,
   "metadata": {
    "colab": {},
    "colab_type": "code",
    "id": "lX6JfIQ35Vjo",
    "scrolled": true
   },
   "outputs": [],
   "source": [
    "!pip uninstall hcipy\n",
    "!rm -rf hcipy\n",
    "!git clone https://github.com/ehpor/hcipy.git\n",
    "!cd hcipy; git pull\n",
    "!cd hcipy; python setup.py install"
   ]
  },
  {
   "cell_type": "markdown",
   "metadata": {
    "colab_type": "text",
    "id": "_227Uh2v5wz8"
   },
   "source": [
    "### Step 2: Importing necessary libraries."
   ]
  },
  {
   "cell_type": "code",
   "execution_count": null,
   "metadata": {
    "colab": {},
    "colab_type": "code",
    "id": "F_-ee-0x5Z6_"
   },
   "outputs": [],
   "source": [
    "# Necessary imports\n",
    "import gym\n",
    "from gym import spaces\n",
    "from gym.utils import seeding\n",
    "import numpy as np\n",
    "from hcipy import *\n",
    "import matplotlib.pyplot as plt\n",
    "from astropy.io import fits\n",
    "import os, glob\n",
    "import time\n",
    "import tensorflow as tf"
   ]
  },
  {
   "cell_type": "markdown",
   "metadata": {
    "colab_type": "text",
    "id": "ddm8ZTXH6MwL"
   },
   "source": [
    "### Step 4: Define testbench parameters."
   ]
  },
  {
   "cell_type": "code",
   "execution_count": null,
   "metadata": {
    "colab": {},
    "colab_type": "code",
    "id": "Cn7ScAI96Hlz"
   },
   "outputs": [],
   "source": [
    "# Create aperture and pupil/focal grids\n",
    "wavelength = 532e-9\n",
    "N = 256\n",
    "D = 10.5e-3\n",
    "pupil_grid = make_pupil_grid(N, D*1.1)\n",
    "science_focal_grid = make_focal_grid(8, 20, wavelength/D)\n",
    "aperture = circular_aperture(D)\n",
    "\n",
    "# Create the deformable mirror\n",
    "num_actuators = 25\n",
    "xinetics_basis = make_xinetics_influence_functions(pupil_grid, num_actuators, D * 1.1 / num_actuators)\n",
    "dm = DeformableMirror(xinetics_basis)\n",
    "num_modes = len(dm.influence_functions)\n",
    "dm.actuators = np.zeros(num_modes)\n",
    "\n",
    "## Create propagator from pupil to focal plane\n",
    "prop = FraunhoferPropagator(pupil_grid, science_focal_grid)\n",
    "\n",
    "wf = Wavefront(aperture(pupil_grid), wavelength)\n",
    "wf.total_power = 100000\n",
    "## Get the unit lambda/D\n",
    "l_D = wavelength / D\n",
    "plot_grid = make_focal_grid(8, 20, 1)\n",
    "\n",
    "## Create the Shack-Hartmann wavefront sensor and estimator\n",
    "## Create the microlens array\n",
    "F_mla = 30. / 0.3\n",
    "N_mla = 32\n",
    "D_mla = 10.5e-3\n",
    "\n",
    "shwfs = SquareShackHartmannWavefrontSensorOptics(pupil_grid, F_mla, N_mla, D_mla)\n",
    "shwfse = ShackHartmannWavefrontSensorEstimator(shwfs.mla_grid, shwfs.micro_lens_array.mla_index, circular_aperture(D)(shwfs.mla_grid).astype('bool'))"
   ]
  },
  {
   "cell_type": "markdown",
   "metadata": {},
   "source": [
    "## Step 5: Create a function to calibrate the WFS"
   ]
  },
  {
   "cell_type": "code",
   "execution_count": null,
   "metadata": {},
   "outputs": [],
   "source": [
    "def shack_hartmann_calibrator(wf, shwfs, shwfse, dm, amp, prop, filt=None):\n",
    "    \n",
    "    # Zero out the DM actuators\n",
    "    dm.actuators = np.zeros(dm.actuators.shape)\n",
    "    \n",
    "    # Get the refernce lenslet measurements\n",
    "    img = shwfs(wf).power\n",
    "    ref = shwfse.estimate([img]).ravel()\n",
    "    num_measurements = ref.shape[0]\n",
    "    \n",
    "    Infmat = []\n",
    "    \n",
    "    images = []\n",
    "    \n",
    "    for dm_mode in np.arange(num_modes):\n",
    "        \n",
    "        print(\"\\rNow calibrating actuator {}/{}\".format(dm_mode+1, num_modes), end=\"\")\n",
    "        \n",
    "        total_slopes = np.zeros((num_measurements,))\n",
    "        \n",
    "        for push in np.array([-amp, amp]):\n",
    "        \n",
    "            act_levels = np.zeros(num_modes)\n",
    "            act_levels[dm_mode] = push\n",
    "            \n",
    "            dm.actuators = act_levels.copy()\n",
    "            dm_wf = dm.forward(wf)\n",
    "            if filt is None:\n",
    "                sh_wf = shwfs.forward(dm_wf)\n",
    "            else:\n",
    "                filt_wf = prop.backward(filt.forward(prop(dm_wf)))\n",
    "                sh_wf = shwfs.forward(filt_wf)\n",
    "            sh_img = sh_wf.power\n",
    "            \n",
    "            images.append(sh_img.shaped)\n",
    "            \n",
    "            lenslet_centers = shwfse.estimate([sh_img])\n",
    "            total_slopes += (lenslet_centers.ravel()- ref)/(2*push)\n",
    "        Infmat.append(total_slopes)\n",
    "        \n",
    "    dm.actuators = np.zeros(num_modes)\n",
    "        \n",
    "    Infmat = ModeBasis(Infmat)\n",
    "    \n",
    "    write_fits(np.array(images), \"sh_imgs_shaped.fits\")\n",
    "    \n",
    "    return Infmat"
   ]
  },
  {
   "cell_type": "code",
   "execution_count": null,
   "metadata": {},
   "outputs": [],
   "source": [
    "## Now calibrating!\n",
    "wfs_infmat = shack_hartmann_calibrator(wf, shwfs, shwfse, dm, 0.01e-6, prop, None)"
   ]
  },
  {
   "cell_type": "code",
   "execution_count": null,
   "metadata": {},
   "outputs": [],
   "source": [
    "control_mat = inverse_tikhonov(wfs_infmat.transformation_matrix, rcond=2e-2)"
   ]
  },
  {
   "cell_type": "code",
   "execution_count": null,
   "metadata": {},
   "outputs": [],
   "source": [
    "np.save(\"control_mat\", control_mat)"
   ]
  },
  {
   "cell_type": "markdown",
   "metadata": {},
   "source": [
    "## Step 6: Create atmospheric turbulence to test on"
   ]
  },
  {
   "cell_type": "code",
   "execution_count": null,
   "metadata": {},
   "outputs": [],
   "source": [
    "# Telescope parameters\n",
    "Dtel = 4\n",
    "tel_pupil_grid = make_pupil_grid(N, Dtel)\n",
    "tel_aperture = circular_aperture(Dtel)\n",
    "\n",
    "# Atmosphere parameters\n",
    "velocity = 10 #m/s\n",
    "L0 = 40 # outer scale\n",
    "r0 = 0.2 # Fried parameter\n",
    "height = 0 # layer height\n",
    "timestep = 1e-3 # 1 ms per phasescreen\n",
    "\n",
    "# Make atmosphere\n",
    "np.random.seed(19900305)\n",
    "layers = []\n",
    "layer = InfiniteAtmosphericLayer(tel_pupil_grid, Cn_squared_from_fried_parameter(r0, 500e-9), L0, velocity, height, stencil_length=2, use_interpolation=True)\n",
    "layers.append(layer)\n",
    "atmosphere = MultiLayerAtmosphere(layers, False)\n",
    "\n",
    "## Create a demagnifier\n",
    "demag = Magnifier(D / Dtel)\n",
    "\n",
    "# Make initial phasescreen\n",
    "wf_tel = Wavefront(tel_aperture(tel_pupil_grid), wavelength)\n",
    "wf_tel.total_power = 100000\n",
    "wf = demag.forward(wf_tel)\n",
    "\n",
    "# Generate a diffraction limited image for metrics\n",
    "diff_lim_img = prop(wf).power"
   ]
  },
  {
   "cell_type": "code",
   "execution_count": null,
   "metadata": {},
   "outputs": [],
   "source": [
    "# Create a new phasescreen\n",
    "atmosphere.evolve_until(None)\n",
    "# Make sure lag is accounted for\n",
    "for loop in np.arange(0.001, 0.1, 0.001):\n",
    "    atmosphere.evolve_until(loop)"
   ]
  },
  {
   "cell_type": "code",
   "execution_count": null,
   "metadata": {},
   "outputs": [],
   "source": [
    "wfatms_tel = atmosphere.forward(wf_tel)\n",
    "wfatms = demag.forward(wfatms_tel)\n",
    "\n",
    "imshow_field(wfatms.phase, vmin=-np.pi, vmax=np.pi, cmap='RdBu')"
   ]
  },
  {
   "cell_type": "code",
   "execution_count": null,
   "metadata": {},
   "outputs": [],
   "source": [
    "# Lets get the proper lenslet measurements we want\n",
    "ref_img = shwfs.forward(wf).power\n",
    "ref_slopes = shwfse.estimate([ref_img]).ravel()"
   ]
  },
  {
   "cell_type": "code",
   "execution_count": null,
   "metadata": {},
   "outputs": [],
   "source": [
    "sh_img = shwfs.forward(wfatms).power\n",
    "meas_vec = (shwfse.estimate([sh_img])).ravel()"
   ]
  },
  {
   "cell_type": "code",
   "execution_count": null,
   "metadata": {},
   "outputs": [],
   "source": [
    "imshow_field(sh_img)"
   ]
  },
  {
   "cell_type": "code",
   "execution_count": null,
   "metadata": {},
   "outputs": [],
   "source": [
    "amplitudes = control_mat.dot(meas_vec-ref_slopes)"
   ]
  },
  {
   "cell_type": "code",
   "execution_count": null,
   "metadata": {},
   "outputs": [],
   "source": [
    "amplitudes -= np.mean(amplitudes)"
   ]
  },
  {
   "cell_type": "code",
   "execution_count": null,
   "metadata": {},
   "outputs": [],
   "source": [
    "np.min(amplitudes) / 1e-6"
   ]
  },
  {
   "cell_type": "code",
   "execution_count": null,
   "metadata": {},
   "outputs": [],
   "source": [
    "np.max(amplitudes) / 1e-6"
   ]
  },
  {
   "cell_type": "code",
   "execution_count": null,
   "metadata": {},
   "outputs": [],
   "source": [
    "amplitudes = np.clip(amplitudes, -1e-6, 1e-6)"
   ]
  },
  {
   "cell_type": "code",
   "execution_count": null,
   "metadata": {},
   "outputs": [],
   "source": [
    "dm.actuators = -amplitudes.copy()"
   ]
  },
  {
   "cell_type": "code",
   "execution_count": null,
   "metadata": {},
   "outputs": [],
   "source": [
    "wfcor = dm.forward(wfatms)\n",
    "img = prop(wfcor).power"
   ]
  },
  {
   "cell_type": "code",
   "execution_count": null,
   "metadata": {},
   "outputs": [],
   "source": [
    "imshow_field(np.log10(img))"
   ]
  },
  {
   "cell_type": "code",
   "execution_count": null,
   "metadata": {},
   "outputs": [],
   "source": [
    "strehl = img[np.argmax(diff_lim_img)] / diff_lim_img.max()\n",
    "#strehl = img.max() / diff_lim_img.max()\n",
    "print(strehl)"
   ]
  },
  {
   "cell_type": "code",
   "execution_count": null,
   "metadata": {},
   "outputs": [],
   "source": [
    "imshow_field(aperture(pupil_grid)*wfcor.phase, vmin=-np.pi, vmax=np.pi, cmap='RdBu')"
   ]
  },
  {
   "cell_type": "code",
   "execution_count": null,
   "metadata": {},
   "outputs": [],
   "source": [
    "for t in range(25):\n",
    "    dm_wf = dm.forward(wfatms)\n",
    "    sh_img = shwfs.forward(dm_wf).power\n",
    "    meas_vec = (shwfse.estimate([sh_img])).ravel()\n",
    "    amplitudes = control_mat.dot(meas_vec-ref_slopes)\n",
    "    amplitudes = np.clip(amplitudes, -1e-6, 1e-6)\n",
    "    dm.actuators -= amplitudes\n",
    "    wfcor = dm.forward(wfatms)\n",
    "    img = prop(wfcor).power\n",
    "    \n",
    "    strehl = img[np.argmax(diff_lim_img)] / diff_lim_img.max()\n",
    "    print(strehl)\n",
    "    \n",
    "    imshow_field(np.log10(img))\n",
    "    plt.show()\n",
    "    imshow_field(wfcor.phase, vmin=-np.pi, vmax=np.pi, cmap='RdBu')\n",
    "    plt.show()"
   ]
  },
  {
   "cell_type": "code",
   "execution_count": null,
   "metadata": {},
   "outputs": [],
   "source": []
  }
 ],
 "metadata": {
  "colab": {
   "collapsed_sections": [],
   "name": "HCI_DRL_2Dstate.ipynb",
   "provenance": [],
   "toc_visible": true
  },
  "kernelspec": {
   "display_name": "Python 3",
   "language": "python",
   "name": "python3"
  },
  "language_info": {
   "codemirror_mode": {
    "name": "ipython",
    "version": 3
   },
   "file_extension": ".py",
   "mimetype": "text/x-python",
   "name": "python",
   "nbconvert_exporter": "python",
   "pygments_lexer": "ipython3",
   "version": "3.7.6"
  }
 },
 "nbformat": 4,
 "nbformat_minor": 1
}
