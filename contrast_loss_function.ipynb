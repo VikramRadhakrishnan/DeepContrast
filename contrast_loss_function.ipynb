{
 "cells": [
  {
   "cell_type": "markdown",
   "metadata": {
    "colab_type": "text",
    "id": "H_J2O85CUM7r"
   },
   "source": [
    "# Using TensorFlow to model an optical system which will then be used within a custom loss function.\n",
    "\n",
    "## Description:\n",
    "In this notebook we model an optical system consisting of a DM and an APP coronagraph in TensorFlow 2.x. We then train a neural network to maximize the focal-plane dark-hole contrast using the DM, given the phase input to the optical system. The dataset consists of hundreds/thousands of phase screens. We use the optical model within a custom loss function to minimize the intensity within the dark hole."
   ]
  },
  {
   "cell_type": "markdown",
   "metadata": {
    "colab_type": "text",
    "id": "i5172e-vWawR"
   },
   "source": [
    "### Step 1: Installing hcipy on Colab."
   ]
  },
  {
   "cell_type": "markdown",
   "metadata": {},
   "source": [
    "**Note: Only run this on Google Colab. Restart kernel after running.**"
   ]
  },
  {
   "cell_type": "code",
   "execution_count": null,
   "metadata": {
    "colab": {},
    "colab_type": "code",
    "id": "J3nOH80Ry_fl"
   },
   "outputs": [],
   "source": [
    "!pip uninstall hcipy\n",
    "!rm -rf hcipy\n",
    "!git clone https://github.com/ehpor/hcipy.git\n",
    "!cd hcipy; git pull\n",
    "!cd hcipy; python setup.py install"
   ]
  },
  {
   "cell_type": "markdown",
   "metadata": {
    "colab_type": "text",
    "id": "FCwuFRpcWh1O"
   },
   "source": [
    "### Step 2: Importing necessary libraries and setting up optical system."
   ]
  },
  {
   "cell_type": "code",
   "execution_count": 1,
   "metadata": {
    "colab": {},
    "colab_type": "code",
    "id": "Sg0XiTbXzGbZ"
   },
   "outputs": [],
   "source": [
    "## Necessary imports\n",
    "import numpy as np\n",
    "from hcipy import *\n",
    "import matplotlib.pyplot as plt\n",
    "from astropy.io import fits\n",
    "import os, glob\n",
    "import time\n",
    "from scipy.optimize import minimize"
   ]
  },
  {
   "cell_type": "code",
   "execution_count": null,
   "metadata": {
    "colab": {},
    "colab_type": "code",
    "id": "oeIUoUGa1R6N"
   },
   "outputs": [],
   "source": [
    "## Create aperture and pupil/focal grids\n",
    "wavelength = 532e-9\n",
    "N = 256\n",
    "D = 10.5e-3\n",
    "pupil_grid = make_pupil_grid(N, D)\n",
    "science_focal_grid = make_focal_grid(8, 20, wavelength/D)\n",
    "spatial_filter_focal_grid = make_focal_grid(8, 40, wavelength/D)\n",
    "aperture = circular_aperture(D)\n",
    "\n",
    "# Atmosphere parameters\n",
    "velocity = 8 # meters per second\n",
    "wfs_readout_time = 1e-3 # time taken for each WFS read cycle in seconds\n",
    "L0 = 40 # outer scale in meters\n",
    "r0 = 0.2 # Fried parameter in meters\n",
    "height = 0 # height of the layer in meters\n",
    "\n",
    "# Telescope parameters\n",
    "Dtel=4\n",
    "tel_pupil_grid = make_pupil_grid(N, Dtel)\n",
    "tel_aperture = circular_aperture(Dtel)\n",
    "\n",
    "## Create the deformable mirror\n",
    "num_actuators = 25\n",
    "actuator_spacing = D * 1.1 / num_actuators\n",
    "xinetics_basis = make_xinetics_influence_functions(pupil_grid, num_actuators, actuator_spacing)\n",
    "dm = DeformableMirror(xinetics_basis)\n",
    "num_modes = len(dm.influence_functions)\n",
    "dm.flatten()\n",
    "\n",
    "# Make atmosphere\n",
    "np.random.seed(19900305) # for reproducibility\n",
    "layers = []\n",
    "layer = InfiniteAtmosphericLayer(tel_pupil_grid, Cn_squared_from_fried_parameter(r0, 500e-9), L0, velocity, height, 2)\n",
    "layer2 = ModalAdaptiveOpticsLayer(layer, dm.influence_functions, 0) # simulate wavefront flattening with AO\n",
    "layers.append(layer2)\n",
    "atmosphere = MultiLayerAtmosphere(layers, False)\n",
    "\n",
    "## Create a demagnifier\n",
    "demag = Magnifier(10.5e-3/4)\n",
    "\n",
    "# Flat wavefront used for metrics\n",
    "wf_tel = Wavefront(tel_aperture(tel_pupil_grid), wavelength)\n",
    "wf_tel.total_power = 100000 # photon flux\n",
    "wf = demag.forward(wf_tel)\n",
    "\n",
    "## Create propagator from pupil to focal plane\n",
    "prop = FraunhoferPropagator(pupil_grid, science_focal_grid)\n",
    "\n",
    "## Create propagator to the spatial filter focal plane for WFS\n",
    "propWFS = FraunhoferPropagator(pupil_grid, spatial_filter_focal_grid)\n",
    "\n",
    "## Generate a diffraction limited image for metrics\n",
    "diff_lim_img = prop(wf).power\n",
    "\n",
    "## Create a spatial filter to simulate WFS\n",
    "filt_aperture = circular_aperture(55)\n",
    "spatial_filter = Apodizer(filt_aperture(spatial_filter_focal_grid))\n",
    "\n",
    "## Get the unit lambda/D\n",
    "l_D = wavelength / D\n",
    "plot_grid = make_focal_grid(8, 20, 1)"
   ]
  },
  {
   "cell_type": "code",
   "execution_count": null,
   "metadata": {},
   "outputs": [],
   "source": [
    "# Create the APP coronagraph\n",
    "\n",
    "dz_ind = np.where((diff_lim_img.grid.x >= (2 * l_D)) &\\\n",
    "                  (diff_lim_img.grid.x < (8 * l_D)) &\\\n",
    "                  (diff_lim_img.grid.y >= (-3 * l_D)) &\\\n",
    "                  (diff_lim_img.grid.y < (3 * l_D)))\n",
    "dh_mask = ((diff_lim_img.grid.x >= (2 * l_D)) * (diff_lim_img.grid.x < (8 * l_D)) * (diff_lim_img.grid.y >= (-3 * l_D)) * (diff_lim_img.grid.y < (3 * l_D))).astype(float)\n",
    "\n",
    "# Setting up the vAPP calculation parameters.\n",
    "contrast_level = 1e-5\n",
    "contrast_map = science_focal_grid.ones()\n",
    "contrast_map[dz_ind] = contrast_level\n",
    "num_iterations = 120\n",
    "\n",
    "# Generate the vAPP pattern.\n",
    "vAPP = generate_app_keller(wf, prop, contrast_map, num_iterations, beta = 0.96)\n",
    "app_amp = vAPP.amplitude / vAPP.amplitude.max()\n",
    "app_phase = vAPP.phase\n",
    "\n",
    "app = Apodizer(app_amp * np.exp(1j * app_phase))\n",
    "imapp = prop(app.forward(wf)).power"
   ]
  },
  {
   "cell_type": "code",
   "execution_count": null,
   "metadata": {
    "colab": {},
    "colab_type": "code",
    "id": "sB163e7QlniH"
   },
   "outputs": [],
   "source": [
    "meters_to_rads = (2 * np.pi) / wavelength\n",
    "rads_to_meters = 1.0 / meters_to_rads\n",
    "x = np.linspace(-1.1,1.1,25)\n",
    "XX, YY = np.meshgrid(x,-1*x)\n",
    "r_grid = np.sqrt(XX**2+YY**2)\n",
    "mask = (r_grid<=1.2).ravel()"
   ]
  },
  {
   "cell_type": "code",
   "execution_count": null,
   "metadata": {},
   "outputs": [],
   "source": [
    "inverse_tm = inverse_tikhonov(dm.influence_functions.transformation_matrix.toarray(), rcond=1e-4)"
   ]
  },
  {
   "cell_type": "code",
   "execution_count": null,
   "metadata": {},
   "outputs": [],
   "source": [
    "plt.subplot(1, 2, 1)\n",
    "imshow_field(app_phase, grid=pupil_grid, vmin=-np.pi, vmax=np.pi, cmap='RdBu')\n",
    "plt.subplot(1, 2, 2)\n",
    "imshow_field(np.log10(imapp / imapp.max()), vmin=-6, grid=plot_grid)"
   ]
  },
  {
   "cell_type": "markdown",
   "metadata": {
    "colab_type": "text",
    "id": "un-CIPvGOeXD"
   },
   "source": [
    "### Step 3: Setting up the virtual model in TensorFlow."
   ]
  },
  {
   "cell_type": "code",
   "execution_count": 2,
   "metadata": {
    "colab": {},
    "colab_type": "code",
    "id": "7fP_cZjsOlUA"
   },
   "outputs": [],
   "source": [
    "import tensorflow as tf\n",
    "import tensorflow.keras.backend as K"
   ]
  },
  {
   "cell_type": "code",
   "execution_count": 3,
   "metadata": {},
   "outputs": [
    {
     "data": {
      "text/plain": [
       "'2.4.1'"
      ]
     },
     "execution_count": 3,
     "metadata": {},
     "output_type": "execute_result"
    }
   ],
   "source": [
    "tf.__version__"
   ]
  },
  {
   "cell_type": "code",
   "execution_count": null,
   "metadata": {},
   "outputs": [],
   "source": [
    "# needed so that we can feed input wavefront into loss function\n",
    "#tf.python.framework_ops.disable_eager_execution() # for TF 2.2\n",
    "tf.compat.v1.disable_eager_execution() # for TF 2.4"
   ]
  },
  {
   "cell_type": "code",
   "execution_count": null,
   "metadata": {},
   "outputs": [],
   "source": [
    "# Constants needed for the contrast calculation\n",
    "wf_amp = wf.amplitude\n",
    "uv_grid = science_focal_grid.scaled(2 * np.pi/ wavelength)\n",
    "M1 = np.exp(-1j * np.outer(uv_grid.separated_coords[1], pupil_grid.separated_coords[1]))\n",
    "M2 = np.exp(-1j * np.outer(uv_grid.separated_coords[0], pupil_grid.separated_coords[0])).T\n",
    "pweights = pupil_grid.weights\n",
    "fweights = science_focal_grid.weights\n",
    "D = dm.influence_functions.transformation_matrix.toarray()\n",
    "app_field = app_amp * np.exp(1j * app_phase)\n",
    "cent_ind = science_focal_grid.closest_to([0, 0])"
   ]
  },
  {
   "cell_type": "code",
   "execution_count": null,
   "metadata": {
    "colab": {},
    "colab_type": "code",
    "id": "mOI4Rlv7OmiU"
   },
   "outputs": [],
   "source": [
    "# Function to Fraunhofer-propagate a batch of electric fields from pupil plane to science focal plane\n",
    "\n",
    "@tf.function\n",
    "def fraunhofer_tf(field):\n",
    "    f = tf.reshape(field * pweights, (-1, M1.shape[1], M2.shape[0]))\n",
    "    result = -1j * tf.einsum(\"ij,njk,kl->nil\", M1, f, M2) / wavelength\n",
    "    return tf.reshape(result, [-1, M1.shape[0] * M2.shape[1]])"
   ]
  },
  {
   "cell_type": "code",
   "execution_count": null,
   "metadata": {
    "colab": {},
    "colab_type": "code",
    "id": "BHtsupeROqIu"
   },
   "outputs": [],
   "source": [
    "@tf.function\n",
    "def contrast_metric(x, phi_in):\n",
    "    '''Function to calculate the gradient of the contrast w.r.t. the DM actuators.\n",
    "    x: Batch tensor variable with actuator amplitudes of the DM in meters.\n",
    "    phi_in: Batch of residual turbulence phase which is the input to the optical system.'''\n",
    "    \n",
    "    # Convert the phase input into an electric field\n",
    "    E_in = tf.cast(wf_amp * tf.exp(1j * tf.cast(phi_in, tf.complex128)), tf.complex128, name=\"E_in\")\n",
    "  \n",
    "    # Use the DM influence functions and actuator levels to determine the surface\n",
    "    S = tf.linalg.matvec(D, x, name=\"dm_surface\")\n",
    "  \n",
    "    # Calculate the electric field contribution from the DM\n",
    "    dm_field = tf.exp(2j * (2 * np.pi / wavelength) * tf.cast(S, tf.complex128), name=\"dm_field\")\n",
    "    E_d = tf.math.multiply(E_in, dm_field, name=\"E_d\")\n",
    "    \n",
    "    # Calculate the electric field contribution from the coronagraph\n",
    "    E_c = tf.math.multiply(E_d, app_field, name=\"E_c\")\n",
    "  \n",
    "    # Fraunhofer propagate the electric field to the focal plane\n",
    "    E_f = fraunhofer_tf(E_c)\n",
    "  \n",
    "    # Calculate the focal plane intensity\n",
    "    I_f = tf.square(tf.abs(E_f), name=\"I_f\")\n",
    "    \n",
    "    # Calculate the focal plane power - this is the image\n",
    "    p_f = tf.math.multiply(I_f, fweights, name=\"p_f\")\n",
    "  \n",
    "    # Extract the intensities from pixels at the dark hole\n",
    "    dh_intens = tf.math.reduce_sum(tf.math.multiply(p_f, dh_mask), axis=-1)\n",
    "    \n",
    "    # Return this as the metric to minimize                  \n",
    "    return dh_intens"
   ]
  },
  {
   "cell_type": "markdown",
   "metadata": {},
   "source": [
    "Testing the virtual model to see that the result matches the hcipy result."
   ]
  },
  {
   "cell_type": "code",
   "execution_count": null,
   "metadata": {},
   "outputs": [],
   "source": [
    "wavefront_input = []\n",
    "actuator_input = []\n",
    "cost_func_results = []\n",
    "\n",
    "for test in range(3):\n",
    "\n",
    "    dm.flatten()\n",
    "    dm.actuators = np.random.normal(0.0, 0.002, dm.actuators.shape) * 1e-6 # random normal distribution of act amps\n",
    "    actuators = dm.actuators.copy()\n",
    "\n",
    "    atmosphere.evolve_until(None) # reset atmosphere\n",
    "    \n",
    "    wfatms_tel = atmosphere.forward(wf_tel)\n",
    "    wfatms = demag.forward(wfatms_tel)\n",
    "\n",
    "    # Get WFS sensed wavefront\n",
    "    # wffilt = propWFS.backward(spatial_filter.forward(propWFS(wfatms)))\n",
    "    # wffilt.electric_field *= aperture(pupil_grid)\n",
    "    # phase_input = wffilt.phase\n",
    "    phase_input = wfatms.phase\n",
    "    \n",
    "    # Get estimated focal plane image\n",
    "    img = prop(dm.forward(app.forward(wfatms))).power\n",
    "    \n",
    "    wavefront_input.append(phase_input.copy())\n",
    "    actuator_input.append(dm.actuators.copy())\n",
    "    cost_func_results.append(img[dz_ind].sum())"
   ]
  },
  {
   "cell_type": "code",
   "execution_count": null,
   "metadata": {},
   "outputs": [],
   "source": [
    "wavefront_input = np.asarray(wavefront_input)\n",
    "actuator_input = np.asarray(actuator_input)\n",
    "cost_func_results = np.asarray(cost_func_results)"
   ]
  },
  {
   "cell_type": "code",
   "execution_count": null,
   "metadata": {},
   "outputs": [],
   "source": [
    "test_metric = contrast_metric(actuator_input, wavefront_input)"
   ]
  },
  {
   "cell_type": "code",
   "execution_count": null,
   "metadata": {},
   "outputs": [],
   "source": [
    "test_metric.numpy()"
   ]
  },
  {
   "cell_type": "code",
   "execution_count": null,
   "metadata": {},
   "outputs": [],
   "source": [
    "cost_func_results"
   ]
  },
  {
   "cell_type": "markdown",
   "metadata": {},
   "source": [
    "### Step 4: Create a dataset of residual-turbulence wavefronts to train on"
   ]
  },
  {
   "cell_type": "code",
   "execution_count": null,
   "metadata": {},
   "outputs": [],
   "source": [
    "num_phasescreens = 3200\n",
    "\n",
    "wf_dataset = []\n",
    "for ps in range(num_phasescreens):\n",
    "    atmosphere.evolve_until(None) # reset atmosphere\n",
    "    \n",
    "    phase_unwrap = atmosphere.phase_for(wavelength) # The unwrapped phase or wavefront opd in radians\n",
    "    phase_field = Field(phase_unwrap, tel_pupil_grid) # Convert to hcipy field and put it on the grid\n",
    "    phase_field.grid = phase_field.grid.scaled(demag.magnification) # Demagnify grid down to instrument scale\n",
    "    \n",
    "    wf_dataset.append(phase_field) # append this to the dataset\n",
    "    \n",
    "    print(\"\\rNow creating wavefront number: {0}\".format(ps), end=\"\")\n",
    "\n",
    "wf_dataset = np.asarray(wf_dataset)\n",
    "np.save(\"input_phases_unwrapped.npy\", wf_dataset)"
   ]
  },
  {
   "cell_type": "markdown",
   "metadata": {
    "colab_type": "text",
    "id": "YvMAT39gWqVL"
   },
   "source": [
    "### Step 4: Create a custom loss function in TensorFlow"
   ]
  },
  {
   "cell_type": "code",
   "execution_count": null,
   "metadata": {},
   "outputs": [],
   "source": [
    "# Custom loss function in wrapper to have access to input\n",
    "def contrast_loss_wrapper(input_tensor):\n",
    "    # input_tensor here is the unwrapped phase of the residual turbulence\n",
    "    \n",
    "    def contrast_loss_fn(y_true, y_pred):\n",
    "        # Here y_pred are the predicted actuator values that should maximize contrast\n",
    "        # y_true is unused\n",
    "        contrast_loss = contrast_metric(y_pred, input_tensor)\n",
    "        return contrast_loss\n",
    "    \n",
    "    return contrast_loss_fn"
   ]
  },
  {
   "cell_type": "markdown",
   "metadata": {},
   "source": [
    "### Step 5: Create the neural network"
   ]
  },
  {
   "cell_type": "code",
   "execution_count": null,
   "metadata": {},
   "outputs": [],
   "source": [
    "inputs = tf.keras.Input(shape=(65536,), name=\"wavefronts\")\n",
    "#x = tf.keras.layers.Dense(3200, activation=\"swish\")(inputs)\n",
    "#x = tf.keras.layers.Dropout(0.25)(x)\n",
    "#x = tf.keras.layers.Dense(3200, activation=\"swish\")(x)\n",
    "#x = tf.keras.layers.Dropout(0.25)(x)\n",
    "#x = tf.keras.layers.Dense(3200, activation=\"swish\")(x)\n",
    "#x = tf.keras.layers.Dropout(0.25)(x)\n",
    "#x = tf.keras.layers.Dense(3200, activation=\"swish\")(x)\n",
    "#x = tf.keras.layers.Dropout(0.25)(x)\n",
    "outputs = tf.keras.layers.Dense(625, activation=\"linear\", kernel_initializer='zeros', name=\"actuators\")(inputs)\n",
    "\n",
    "model = tf.keras.Model(inputs=inputs, outputs=outputs)"
   ]
  },
  {
   "cell_type": "code",
   "execution_count": null,
   "metadata": {},
   "outputs": [],
   "source": [
    "# Compile model with custom loss function\n",
    "optimizer = tf.keras.optimizers.Adam(learning_rate=1e-7)\n",
    "model.compile(loss=contrast_loss_wrapper(inputs), optimizer=optimizer)"
   ]
  },
  {
   "cell_type": "markdown",
   "metadata": {},
   "source": [
    "### Step 6: Train the neural network"
   ]
  },
  {
   "cell_type": "code",
   "execution_count": null,
   "metadata": {},
   "outputs": [],
   "source": [
    "input_phases = np.load(\"input_phases_unwrapped.npy\")"
   ]
  },
  {
   "cell_type": "code",
   "execution_count": null,
   "metadata": {},
   "outputs": [],
   "source": [
    "#input_phases /= 10.0"
   ]
  },
  {
   "cell_type": "code",
   "execution_count": null,
   "metadata": {},
   "outputs": [],
   "source": [
    "callback = tf.keras.callbacks.EarlyStopping(monitor='val_loss', patience=2, restore_best_weights=True)"
   ]
  },
  {
   "cell_type": "code",
   "execution_count": null,
   "metadata": {},
   "outputs": [],
   "source": [
    "model.fit(input_phases, input_phases, batch_size=250, epochs=100, validation_split=0.01, callbacks=[callback], verbose=1)"
   ]
  },
  {
   "cell_type": "code",
   "execution_count": null,
   "metadata": {},
   "outputs": [],
   "source": [
    "dm.actuators = np.zeros(dm.actuators.shape)\n",
    "\n",
    "np.random.seed(2010203)\n",
    "atmosphere.evolve_until(None)\n",
    "# Make sure lag is accounted for\n",
    "for loop in np.arange(0.001, 0.1, 0.001):\n",
    "    atmosphere.evolve_until(loop)\n",
    "\n",
    "atmosphere.t += 1\n",
    "wfatms_tel = atmosphere.forward(wf_tel)\n",
    "wfatms = demag.forward(wfatms_tel)\n",
    "\n",
    "phase_input = wfatms.phase\n",
    "phase_input = np.expand_dims(phase_input, axis=0)\n",
    "\n",
    "predicted_acts = model(phase_input)"
   ]
  },
  {
   "cell_type": "code",
   "execution_count": null,
   "metadata": {},
   "outputs": [],
   "source": [
    "pred_act_vals = K.eval(predicted_acts)[0]"
   ]
  },
  {
   "cell_type": "code",
   "execution_count": null,
   "metadata": {},
   "outputs": [],
   "source": [
    "dm.actuators = pred_act_vals.copy()\n",
    "img_cont = prop(app.forward(dm.forward(wfatms))).power\n",
    "imshow_field(np.log10(img_cont / img_cont.max()), vmin=-6, grid=plot_grid)\n",
    "plt.colorbar()"
   ]
  },
  {
   "cell_type": "code",
   "execution_count": null,
   "metadata": {},
   "outputs": [],
   "source": [
    "flat_img = prop(app.forward(wfatms)).power"
   ]
  },
  {
   "cell_type": "code",
   "execution_count": null,
   "metadata": {},
   "outputs": [],
   "source": [
    "cont_contrast = img_cont[dz_ind].mean() / img_cont[np.argmax(diff_lim_img)]"
   ]
  },
  {
   "cell_type": "code",
   "execution_count": null,
   "metadata": {},
   "outputs": [],
   "source": [
    "flat_contrast = flat_img[dz_ind].mean() / flat_img[np.argmax(diff_lim_img)]"
   ]
  },
  {
   "cell_type": "code",
   "execution_count": null,
   "metadata": {},
   "outputs": [],
   "source": [
    "cont_contrast"
   ]
  },
  {
   "cell_type": "code",
   "execution_count": null,
   "metadata": {},
   "outputs": [],
   "source": [
    "flat_contrast"
   ]
  },
  {
   "cell_type": "code",
   "execution_count": null,
   "metadata": {},
   "outputs": [],
   "source": [
    "model.save(\"linear_contrast_model.h5\")"
   ]
  },
  {
   "cell_type": "code",
   "execution_count": null,
   "metadata": {},
   "outputs": [],
   "source": [
    "del(model)"
   ]
  }
 ],
 "metadata": {
  "accelerator": "GPU",
  "colab": {
   "collapsed_sections": [],
   "machine_shape": "hm",
   "name": "TF2_contrast_ctrl_expts.ipynb",
   "provenance": [],
   "toc_visible": true
  },
  "kernelspec": {
   "display_name": "Python 3",
   "language": "python",
   "name": "python3"
  },
  "language_info": {
   "codemirror_mode": {
    "name": "ipython",
    "version": 3
   },
   "file_extension": ".py",
   "mimetype": "text/x-python",
   "name": "python",
   "nbconvert_exporter": "python",
   "pygments_lexer": "ipython3",
   "version": "3.7.6"
  }
 },
 "nbformat": 4,
 "nbformat_minor": 1
}
